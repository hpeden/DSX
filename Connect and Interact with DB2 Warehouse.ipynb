{
    "cells": [
        {
            "cell_type": "markdown", 
            "source": "\n# Access DB2 Warehouse on Cloud and explore the data with Python\n\nThis notebook shows how to access a DB2 data warehouse or DB2 database when using Python. The examples use a DB2 warehouse, but the instructions apply to both DB2 Warehouse and DB2.\n\n\n\n## Table of contents\n\n1. [Info](#Info)\n1. [Create Version](#Version)\n1. [Setup](#Setup) \n1. [Import the *ibmdbpy* Python library](#Import-the-ibmdbpy-Python-library)\n1. [Insert the database connection credentials](#Insert-the-database-connection-credentials)\n1. [Create the database connection](#Create-the-database-connection)\n1. [Use dataframe to read and manipulate tables](#Use-dataframe-to-read-and-manipulate-tables)\n1. [Use SQL](#Use-SQL)\n1. [Explore the trafficking data](#Explore-the-trafficking-data)\n1. [Close the database connection](#Close-the-database-connection)\n1. [Share the notebook](#Share)\n1. [Save to GitHub](#GitHub)\n1. [Help](#Help)\n1. [Summary](#Summary)\n\n<a id=\"Info\"></a>\n## Info\nSelect the Info icon to display general information about the notebook. <br>\n<img alt=\"IBM Bluemix.Get started now\" src=\"https://raw.githubusercontent.com/jpatter/DSX/master/Lab-1/images/info-button.png\" ><br>\nYou can change the notebook name or add a description here.   You can also flag that the notebook can run with your privileges (Trusted Notebook).   If you run all cells of the notebook it is also considered trusted.\n<img alt=\"IBM Bluemix.Get started now\" src=\"https://raw.githubusercontent.com/jpatter/DSX/master/Lab-1/images/Info.PNG\" >\n\n<a id=\"Version\"></a>\n## Create Version \n\nSave a version of the notebook by selecting File > Save Version \n<img alt=\"IBM Bluemix.Get started now\" src=\"https://raw.githubusercontent.com/jpatter/DSX/master/Lab-1/images/FileOptions.PNG\" > or by selecting the Versions icon. <img alt=\"IBM Bluemix.Get started now\" src=\"https://raw.githubusercontent.com/jpatter/DSX/master/Lab-1/images/versions-button.png\" ><br>\nYou can have up to ten (10) versions of a notebook.   Notebook versions are saved in a FIFO manner.\n\n<a id=\"Setup\"></a>\n## Setup\n\nBefore beginning you will need a *DB2 Warehouse on Cloud* instance. DB2 Warehouse is a fully managed cloud data warehouse, purpose-built for analytics. It offers massively parallel processing (MPP) scale and compatibility with a wide range of business intelligence (BI) tools.  \n\n1. __RIGHT-CLICK__ [this link](https://github.com/jpatter/DSX/raw/master/Lab-1/data/Female-human-trafficking.csv) and select __Save Link As...__ to save the `Female-human-trafficking.csv` file to your desktop.\n1. Download the [DB2 Warehouse setup instructions](https://github.com/jpatter/DSX/blob/master/Lab-1/DB2Warehouse_DSXPOT.pdf).  You need to download the PDF in order for the links to work.\n1. Open up the PDF file that you've just downloaded in the previous step and follow the instructions there to setup DB2 Warehouse, load the human trafficking data and create a DSX data connection.\n\n<a class=\"ibm-tooltip\" href=\"https://console.ng.bluemix.net/catalog/services/dashdb\" target=\"_blank\" title=\"\" id=\"ibm-tooltip-0\">\n<img alt=\"IBM Bluemix.Get started now\" src=\"https://raw.githubusercontent.com/jpatter/DSX/master/Lab-1/images/DB2Warehouse.png\" >\n</a>\n\n<a id=\"Import-the-ibmdbpy-Python-library\"></a>\n## Import the *ibmdbpy* Python library\n\nPython support for DB Warehouse and DB2 is provided by the [ibmdbpy Python library](https://pypi.python.org/pypi/ibmdbpy). Connecting to DB2 Warehouse or DB2 is also enabled by a DB2 driver, libdb2.so.  The ibmdbpy project provides a Python interface for data manipulation and access to in-database algorithms in IBM DB2 Warehouse and IBM DB2. It accelerates Python analytics by seamlessly pushing operations written in Python into the underlying database for execution, thereby benefitting from in-database performance-enhancing features, such as columnar storage and parallel processing.\n\n### Setup a *JDBC* connection\nThe JDBC Connection is based on a Java virtual machine. From the ibmdbpy library you can use JDBC to connect to a remote DB2 Warehouse/DB2 instance. To be able to use JDBC to connect, we need to import the *JayDeBeApi* package and we need to add the DB2 Warehouse/DB2 data connector jar file to the java class path.\n\nTo run a cell, click on the cell and click the run button in the toolbar or press __SHIFT-ENTER__.\n\nRun the following commands to install and load the `JayDeBeApi` package and the `ibmdbpy` library into your notebook:", 
            "metadata": {}
        }, 
        {
            "cell_type": "code", 
            "execution_count": 5, 
            "metadata": {
                "collapsed": true
            }, 
            "outputs": [], 
            "source": "import jaydebeapi\nfrom ibmdbpy import IdaDataBase\nfrom ibmdbpy import IdaDataFrame"
        }, 
        {
            "cell_type": "code", 
            "execution_count": 6, 
            "metadata": {}, 
            "outputs": [
                {
                    "output_type": "stream", 
                    "text": "Pixiedust database opened successfully\n", 
                    "name": "stdout"
                }, 
                {
                    "output_type": "display_data", 
                    "metadata": {}, 
                    "data": {
                        "text/html": "\n        <div style=\"margin:10px\">\n            <a href=\"https://github.com/ibm-watson-data-lab/pixiedust\" target=\"_new\">\n                <img src=\"https://github.com/ibm-watson-data-lab/pixiedust/raw/master/docs/_static/pd_icon32.png\" style=\"float:left;margin-right:10px\"/>\n            </a>\n            <span>Pixiedust version 1.1.0.1</span>\n        </div>\n        ", 
                        "text/plain": "<IPython.core.display.HTML object>"
                    }
                }, 
                {
                    "output_type": "display_data", 
                    "metadata": {}, 
                    "data": {
                        "text/html": "<div>Warning: You are not running the latest version of PixieDust. Current is 1.1.0.1, Latest is 1.1.1</div>", 
                        "text/plain": "<IPython.core.display.HTML object>"
                    }
                }, 
                {
                    "output_type": "display_data", 
                    "metadata": {}, 
                    "data": {
                        "text/html": "\n                <div>Please copy and run the following command in a new cell to upgrade: <span style=\"background-color:#ececec;font-family:monospace;padding:0 5px\">!pip install --user --upgrade pixiedust</span></div>\n            ", 
                        "text/plain": "<IPython.core.display.HTML object>"
                    }
                }, 
                {
                    "output_type": "display_data", 
                    "metadata": {}, 
                    "data": {
                        "text/html": "<div>Please restart kernel after upgrading.</div>", 
                        "text/plain": "<IPython.core.display.HTML object>"
                    }
                }
            ], 
            "source": "import pixiedust"
        }, 
        {
            "cell_type": "code", 
            "execution_count": 7, 
            "metadata": {
                "scrolled": true
            }, 
            "outputs": [
                {
                    "output_type": "stream", 
                    "text": "Package already installed: file:///usr/local/src/data-connectors-1.4.1/db2jcc4-10.5.0.6.jar\n", 
                    "name": "stdout"
                }, 
                {
                    "execution_count": 7, 
                    "metadata": {}, 
                    "output_type": "execute_result", 
                    "data": {
                        "text/plain": "<pixiedust.packageManager.package.Package at 0x7f72a044e470>"
                    }
                }
            ], 
            "source": "# connection jar for DB2 Warehouse on Cloud -- you may have to restart the kernel and re-run cells.   If you do, a warning will appear.\n\npixiedust.installPackage(\"file:///usr/local/src/data-connectors-1.4.1/db2jcc4-10.5.0.6.jar\")"
        }, 
        {
            "cell_type": "markdown", 
            "source": "<a id=\"Insert-the-database-connection-credentials\"></a>\n## Insert the database connection credentials\n\nClick on the cell below, then on the notebook toolbar, click the box of 1's and 0's, find your database connection and click the __Insert to code__ link under the connection name to have a `credentials_1` dictionary added to the notebook.\n\n<img alt=\"IBM Bluemix.Get started now\" src=\"https://raw.githubusercontent.com/jpatter/DSX/master/Lab-1/images/connections-button.png\" >\n\n__Note__: When this dictionary is inserted, it might have a different name than `credentials_1`.  If so change the dictionary name to `credentials_1` so that the rest of the notebook will work.\n\nConnecting to DB2 Warehouse requires the following information which are provided by the credentials dictionary inserted:\n* Database name \n* Host DNS name or IP address \n* Host port\n* Connection protocol\n* User ID\n* User password\n\nThe information `credentials_1` will be used to build a connection string in a subsequent step.", 
            "metadata": {}
        }, 
        {
            "cell_type": "code", 
            "execution_count": 8, 
            "metadata": {
                "collapsed": true
            }, 
            "outputs": [], 
            "source": "# The code was removed by DSX for sharing."
        }, 
        {
            "cell_type": "markdown", 
            "source": "<a id=\"Create-the-database-connection\"></a>\n## Create the database connection\n\nThe following code snippet creates a connection string `connection_string`\nand uses the `connection_string` to create a database connection object:\n", 
            "metadata": {}
        }, 
        {
            "cell_type": "code", 
            "execution_count": 9, 
            "metadata": {
                "collapsed": true
            }, 
            "outputs": [], 
            "source": "connection_string='DASHDB;Database={db};Hostname={hostname};Port={port};PROTOCOL=TCPIP;UID={username};PWD={password}'.format(**credentials_1)\nidadb = IdaDataBase(dsn=connection_string)"
        }, 
        {
            "cell_type": "markdown", 
            "source": "<a id=\"Use-dataframe-to-read-and-manipulate-tables\"></a>\n## Use a dataframe to read and manipulate tables\n\nYou can now use the connection object `idadb` to query the database:", 
            "metadata": {}
        }, 
        {
            "cell_type": "code", 
            "execution_count": 10, 
            "metadata": {}, 
            "outputs": [
                {
                    "execution_count": 10, 
                    "metadata": {}, 
                    "output_type": "execute_result", 
                    "data": {
                        "text/html": "<div>\n<table border=\"1\" class=\"dataframe\">\n  <thead>\n    <tr style=\"text-align: right;\">\n      <th></th>\n      <th>TABSCHEMA</th>\n      <th>TABNAME</th>\n      <th>OWNER</th>\n      <th>TYPE</th>\n    </tr>\n  </thead>\n  <tbody>\n    <tr>\n      <th>0</th>\n      <td>DASH11443</td>\n      <td>FEMALE_HUMAN_TRAFFICKING</td>\n      <td>DASH11443</td>\n      <td>T</td>\n    </tr>\n    <tr>\n      <th>1</th>\n      <td>GOSALES</td>\n      <td>BRANCH</td>\n      <td>DB2INST1</td>\n      <td>T</td>\n    </tr>\n    <tr>\n      <th>2</th>\n      <td>GOSALES</td>\n      <td>CONVERSION_RATE</td>\n      <td>DB2INST1</td>\n      <td>T</td>\n    </tr>\n    <tr>\n      <th>3</th>\n      <td>GOSALES</td>\n      <td>COUNTRY</td>\n      <td>DB2INST1</td>\n      <td>T</td>\n    </tr>\n    <tr>\n      <th>4</th>\n      <td>GOSALES</td>\n      <td>CURRENCY_LOOKUP</td>\n      <td>DB2INST1</td>\n      <td>T</td>\n    </tr>\n    <tr>\n      <th>5</th>\n      <td>GOSALES</td>\n      <td>EURO_CONVERSION</td>\n      <td>DB2INST1</td>\n      <td>T</td>\n    </tr>\n    <tr>\n      <th>6</th>\n      <td>GOSALES</td>\n      <td>INVENTORY_LEVELS</td>\n      <td>DB2INST1</td>\n      <td>T</td>\n    </tr>\n    <tr>\n      <th>7</th>\n      <td>GOSALES</td>\n      <td>ORDER_DETAILS</td>\n      <td>DB2INST1</td>\n      <td>T</td>\n    </tr>\n    <tr>\n      <th>8</th>\n      <td>GOSALES</td>\n      <td>ORDER_HEADER</td>\n      <td>DB2INST1</td>\n      <td>T</td>\n    </tr>\n    <tr>\n      <th>9</th>\n      <td>GOSALES</td>\n      <td>ORDER_METHOD</td>\n      <td>DB2INST1</td>\n      <td>T</td>\n    </tr>\n  </tbody>\n</table>\n</div>", 
                        "text/plain": "   TABSCHEMA                   TABNAME      OWNER TYPE\n0  DASH11443  FEMALE_HUMAN_TRAFFICKING  DASH11443    T\n1    GOSALES                    BRANCH   DB2INST1    T\n2    GOSALES           CONVERSION_RATE   DB2INST1    T\n3    GOSALES                   COUNTRY   DB2INST1    T\n4    GOSALES           CURRENCY_LOOKUP   DB2INST1    T\n5    GOSALES           EURO_CONVERSION   DB2INST1    T\n6    GOSALES          INVENTORY_LEVELS   DB2INST1    T\n7    GOSALES             ORDER_DETAILS   DB2INST1    T\n8    GOSALES              ORDER_HEADER   DB2INST1    T\n9    GOSALES              ORDER_METHOD   DB2INST1    T"
                    }
                }
            ], 
            "source": "df = idadb.show_tables(show_all = True)\ndf.head(10)"
        }, 
        {
            "cell_type": "code", 
            "execution_count": 11, 
            "metadata": {}, 
            "outputs": [
                {
                    "execution_count": 11, 
                    "metadata": {}, 
                    "output_type": "execute_result", 
                    "data": {
                        "text/plain": "True"
                    }
                }
            ], 
            "source": "idadb.exists_table_or_view('GOSALESDW.EMP_EXPENSE_FACT')"
        }, 
        {
            "cell_type": "markdown", 
            "source": "Using our previously opened IdaDataBase instance named \u2018idadb\u2019, we can open one or several IdaDataFrame objects. They behave like pointers to remote tables.\n\nLet us open the *EMP_EXPENSE_FACT* data set, assuming it is stored in the database under the name \u2018GOSALESDW.EMP_EXPENSE_FACT\u2019. The following cell assigns the dataset to a IdaDataFrame.   IdaDataFrame copies the Pandas interface for DataFrame objects to ensure intuitive interaction for end-users.\n\nThe [Pandas data analysis library](http://pandas.pydata.org/) provides high-performance, easy-to-use data structures and data analysis tools for the Python programming language. Pandas allows easy processing and manipulation of tabular data, so it is a perfect fit for data extracted from relational databases.\n", 
            "metadata": {}
        }, 
        {
            "cell_type": "code", 
            "execution_count": 12, 
            "metadata": {
                "collapsed": true
            }, 
            "outputs": [], 
            "source": "idadf = IdaDataFrame(idadb, 'GOSALESDW.EMP_EXPENSE_FACT')"
        }, 
        {
            "cell_type": "markdown", 
            "source": "### Automatic creation of dataframes for tables<br>\n<div class=\"panel-group\" id=\"accordion-1\">\n  <div class=\"panel panel-default\">\n    <div class=\"panel-heading\">\n      <h4 class=\"panel-title\"><a data-toggle=\"collapse\" data-parent=\"#accordion-1\" href=\"#collapse1-1\">Optional Advanced:</a></h4>\n    </div>\n    <div id=\"collapse1-1\" class=\"panel-collapse collapse\">\n      <div class=\"panel-body\">\nTry adding the IdaDataFrame for the table in question from the Connections view -- do all the following commands still work?<br><br>\nTo add the dataframe, select the \"Find and Add Data\" icon (the one with 0 and 1s), select Connections, then \"Insert to code\" for the dataframe.    You will have to select the schema and table to use.\n\n      </div>\n    </div>\n  </div>\n</div>", 
            "metadata": {}
        }, 
        {
            "cell_type": "code", 
            "execution_count": 13, 
            "metadata": {}, 
            "outputs": [
                {
                    "execution_count": 13, 
                    "metadata": {}, 
                    "output_type": "execute_result", 
                    "data": {
                        "text/html": "<div>\n<table border=\"1\" class=\"dataframe\">\n  <thead>\n    <tr style=\"text-align: right;\">\n      <th></th>\n      <th>INTERNAL_ID</th>\n      <th>VETTING_LEVEL</th>\n      <th>DESCRIPTION</th>\n      <th>VETTING_LEVEL_PREDICTION</th>\n      <th>ALGORITHM_NAME</th>\n      <th>NAME</th>\n      <th>GENDER</th>\n      <th>BIRTH_DATE</th>\n      <th>BIRTH_COUNTRY</th>\n      <th>BIRTH_COUNTRY_CODE</th>\n      <th>...</th>\n      <th>ARRIVAL_AIRPORT_COUNTRY_CODE</th>\n      <th>ARRIVAL_AIRPORT_IATA</th>\n      <th>ARRIVAL_AIRPORT_MUNICIPALITY</th>\n      <th>ARRIVAL_AIRPORT_REGION</th>\n      <th>DEPARTURE_AIRPORT_COUNTRY_CODE</th>\n      <th>DEPARTURE_AIRPORT_IATA</th>\n      <th>DEPARTURE_AIRPORT_MUNICIPALITY</th>\n      <th>DEPARTURE_AIRPORT_REGION</th>\n      <th>UUID</th>\n      <th>AGE</th>\n    </tr>\n  </thead>\n  <tbody>\n    <tr>\n      <th>0</th>\n      <td>1</td>\n      <td>100</td>\n      <td>NA</td>\n      <td>30</td>\n      <td>DECISION_TREE</td>\n      <td>Kathleen Bailey</td>\n      <td>F</td>\n      <td>1985-11-27</td>\n      <td>Ghana</td>\n      <td>GH</td>\n      <td>...</td>\n      <td>US</td>\n      <td>BMI</td>\n      <td>Bloomington/Normal</td>\n      <td>US-IL</td>\n      <td>AE</td>\n      <td>AUH</td>\n      <td>Abu Dhabi</td>\n      <td>AE-AZ</td>\n      <td>81d28245-a6d4-40e3-bac0-df61cc6625ce</td>\n      <td>31</td>\n    </tr>\n    <tr>\n      <th>1</th>\n      <td>2</td>\n      <td>30</td>\n      <td>NA</td>\n      <td>30</td>\n      <td>DECISION_TREE</td>\n      <td>Kelly Robbins</td>\n      <td>F</td>\n      <td>1971-01-17</td>\n      <td>Pakistan</td>\n      <td>PK</td>\n      <td>...</td>\n      <td>US</td>\n      <td>CLE</td>\n      <td>Cleveland</td>\n      <td>US-OH</td>\n      <td>UA</td>\n      <td>KBP</td>\n      <td>Kiev</td>\n      <td>UA-32</td>\n      <td>b4d817b3-2154-4351-b0e3-bcd736a76bf5</td>\n      <td>46</td>\n    </tr>\n    <tr>\n      <th>2</th>\n      <td>3</td>\n      <td>100</td>\n      <td>NA</td>\n      <td>30</td>\n      <td>DECISION_TREE</td>\n      <td>Linda Stewart</td>\n      <td>F</td>\n      <td>1997-04-15</td>\n      <td>Ghana</td>\n      <td>GH</td>\n      <td>...</td>\n      <td>US</td>\n      <td>TPA</td>\n      <td>Tampa</td>\n      <td>US-FL</td>\n      <td>RU</td>\n      <td>KJA</td>\n      <td>Krasnoyarsk</td>\n      <td>RU-KYA</td>\n      <td>a52a6477-1f5e-4b09-a5e3-f76333a7eb10</td>\n      <td>19</td>\n    </tr>\n    <tr>\n      <th>3</th>\n      <td>4</td>\n      <td>100</td>\n      <td>NA</td>\n      <td>30</td>\n      <td>DECISION_TREE</td>\n      <td>Stacey Courtney Gonzalez</td>\n      <td>F</td>\n      <td>1984-03-27</td>\n      <td>Ghana</td>\n      <td>GH</td>\n      <td>...</td>\n      <td>US</td>\n      <td>TOL</td>\n      <td>Toledo</td>\n      <td>US-OH</td>\n      <td>RU</td>\n      <td>AER</td>\n      <td>Sochi</td>\n      <td>RU-KDA</td>\n      <td>5fcbbf15-8268-4306-ac26-406c2faae251</td>\n      <td>32</td>\n    </tr>\n    <tr>\n      <th>4</th>\n      <td>5</td>\n      <td>30</td>\n      <td>NA</td>\n      <td>30</td>\n      <td>DECISION_TREE</td>\n      <td>Erika Patie Fowler</td>\n      <td>F</td>\n      <td>1998-06-18</td>\n      <td>Ghana</td>\n      <td>GH</td>\n      <td>...</td>\n      <td>US</td>\n      <td>FWA</td>\n      <td>Fort Wayne</td>\n      <td>US-IN</td>\n      <td>IE</td>\n      <td>ORK</td>\n      <td>Cork</td>\n      <td>IE-C</td>\n      <td>6d1fe59a-6828-4bc5-9ded-2194aa238461</td>\n      <td>18</td>\n    </tr>\n  </tbody>\n</table>\n<p>5 rows \u00d7 28 columns</p>\n</div>", 
                        "text/plain": "   INTERNAL_ID  VETTING_LEVEL DESCRIPTION  VETTING_LEVEL_PREDICTION  \\\n0            1            100          NA                        30   \n1            2             30          NA                        30   \n2            3            100          NA                        30   \n3            4            100          NA                        30   \n4            5             30          NA                        30   \n\n  ALGORITHM_NAME                      NAME GENDER  BIRTH_DATE BIRTH_COUNTRY  \\\n0  DECISION_TREE           Kathleen Bailey      F  1985-11-27         Ghana   \n1  DECISION_TREE             Kelly Robbins      F  1971-01-17      Pakistan   \n2  DECISION_TREE             Linda Stewart      F  1997-04-15         Ghana   \n3  DECISION_TREE  Stacey Courtney Gonzalez      F  1984-03-27         Ghana   \n4  DECISION_TREE        Erika Patie Fowler      F  1998-06-18         Ghana   \n\n  BIRTH_COUNTRY_CODE ... ARRIVAL_AIRPORT_COUNTRY_CODE ARRIVAL_AIRPORT_IATA  \\\n0                 GH ...                           US                  BMI   \n1                 PK ...                           US                  CLE   \n2                 GH ...                           US                  TPA   \n3                 GH ...                           US                  TOL   \n4                 GH ...                           US                  FWA   \n\n  ARRIVAL_AIRPORT_MUNICIPALITY  ARRIVAL_AIRPORT_REGION  \\\n0           Bloomington/Normal                   US-IL   \n1                    Cleveland                   US-OH   \n2                        Tampa                   US-FL   \n3                       Toledo                   US-OH   \n4                   Fort Wayne                   US-IN   \n\n  DEPARTURE_AIRPORT_COUNTRY_CODE DEPARTURE_AIRPORT_IATA  \\\n0                             AE                    AUH   \n1                             UA                    KBP   \n2                             RU                    KJA   \n3                             RU                    AER   \n4                             IE                    ORK   \n\n  DEPARTURE_AIRPORT_MUNICIPALITY  DEPARTURE_AIRPORT_REGION  \\\n0                      Abu Dhabi                     AE-AZ   \n1                           Kiev                     UA-32   \n2                    Krasnoyarsk                    RU-KYA   \n3                          Sochi                    RU-KDA   \n4                           Cork                      IE-C   \n\n                                   UUID AGE  \n0  81d28245-a6d4-40e3-bac0-df61cc6625ce  31  \n1  b4d817b3-2154-4351-b0e3-bcd736a76bf5  46  \n2  a52a6477-1f5e-4b09-a5e3-f76333a7eb10  19  \n3  5fcbbf15-8268-4306-ac26-406c2faae251  32  \n4  6d1fe59a-6828-4bc5-9ded-2194aa238461  18  \n\n[5 rows x 28 columns]"
                    }
                }
            ], 
            "source": "# The code was removed by DSX for sharing."
        }, 
        {
            "cell_type": "code", 
            "execution_count": 14, 
            "metadata": {}, 
            "outputs": [
                {
                    "execution_count": 14, 
                    "metadata": {}, 
                    "output_type": "execute_result", 
                    "data": {
                        "text/html": "<div>\n<table border=\"1\" class=\"dataframe\">\n  <thead>\n    <tr style=\"text-align: right;\">\n      <th></th>\n      <th>TYPENAME</th>\n    </tr>\n  </thead>\n  <tbody>\n    <tr>\n      <th>INTERNAL_ID</th>\n      <td>SMALLINT</td>\n    </tr>\n    <tr>\n      <th>VETTING_LEVEL</th>\n      <td>SMALLINT</td>\n    </tr>\n    <tr>\n      <th>DESCRIPTION</th>\n      <td>VARCHAR</td>\n    </tr>\n    <tr>\n      <th>VETTING_LEVEL_PREDICTION</th>\n      <td>SMALLINT</td>\n    </tr>\n    <tr>\n      <th>ALGORITHM_NAME</th>\n      <td>VARCHAR</td>\n    </tr>\n    <tr>\n      <th>NAME</th>\n      <td>VARCHAR</td>\n    </tr>\n    <tr>\n      <th>GENDER</th>\n      <td>VARCHAR</td>\n    </tr>\n    <tr>\n      <th>BIRTH_DATE</th>\n      <td>DATE</td>\n    </tr>\n    <tr>\n      <th>BIRTH_COUNTRY</th>\n      <td>VARCHAR</td>\n    </tr>\n    <tr>\n      <th>BIRTH_COUNTRY_CODE</th>\n      <td>VARCHAR</td>\n    </tr>\n    <tr>\n      <th>OCCUPATION</th>\n      <td>VARCHAR</td>\n    </tr>\n    <tr>\n      <th>ADDRESS</th>\n      <td>VARCHAR</td>\n    </tr>\n    <tr>\n      <th>SSN</th>\n      <td>VARCHAR</td>\n    </tr>\n    <tr>\n      <th>PASSPORT_NUMBER</th>\n      <td>INTEGER</td>\n    </tr>\n    <tr>\n      <th>PASSPORT_COUNTRY</th>\n      <td>VARCHAR</td>\n    </tr>\n    <tr>\n      <th>PASSPORT_COUNTRY_CODE</th>\n      <td>VARCHAR</td>\n    </tr>\n    <tr>\n      <th>COUNTRIES_VISITED</th>\n      <td>VARCHAR</td>\n    </tr>\n    <tr>\n      <th>COUNTRIES_VISITED_COUNT</th>\n      <td>SMALLINT</td>\n    </tr>\n    <tr>\n      <th>ARRIVAL_AIRPORT_COUNTRY_CODE</th>\n      <td>VARCHAR</td>\n    </tr>\n    <tr>\n      <th>ARRIVAL_AIRPORT_IATA</th>\n      <td>VARCHAR</td>\n    </tr>\n    <tr>\n      <th>ARRIVAL_AIRPORT_MUNICIPALITY</th>\n      <td>VARCHAR</td>\n    </tr>\n    <tr>\n      <th>ARRIVAL_AIRPORT_REGION</th>\n      <td>VARCHAR</td>\n    </tr>\n    <tr>\n      <th>DEPARTURE_AIRPORT_COUNTRY_CODE</th>\n      <td>VARCHAR</td>\n    </tr>\n    <tr>\n      <th>DEPARTURE_AIRPORT_IATA</th>\n      <td>VARCHAR</td>\n    </tr>\n    <tr>\n      <th>DEPARTURE_AIRPORT_MUNICIPALITY</th>\n      <td>VARCHAR</td>\n    </tr>\n    <tr>\n      <th>DEPARTURE_AIRPORT_REGION</th>\n      <td>VARCHAR</td>\n    </tr>\n    <tr>\n      <th>UUID</th>\n      <td>VARCHAR</td>\n    </tr>\n    <tr>\n      <th>AGE</th>\n      <td>SMALLINT</td>\n    </tr>\n  </tbody>\n</table>\n</div>", 
                        "text/plain": "                                TYPENAME\nINTERNAL_ID                     SMALLINT\nVETTING_LEVEL                   SMALLINT\nDESCRIPTION                      VARCHAR\nVETTING_LEVEL_PREDICTION        SMALLINT\nALGORITHM_NAME                   VARCHAR\nNAME                             VARCHAR\nGENDER                           VARCHAR\nBIRTH_DATE                          DATE\nBIRTH_COUNTRY                    VARCHAR\nBIRTH_COUNTRY_CODE               VARCHAR\nOCCUPATION                       VARCHAR\nADDRESS                          VARCHAR\nSSN                              VARCHAR\nPASSPORT_NUMBER                  INTEGER\nPASSPORT_COUNTRY                 VARCHAR\nPASSPORT_COUNTRY_CODE            VARCHAR\nCOUNTRIES_VISITED                VARCHAR\nCOUNTRIES_VISITED_COUNT         SMALLINT\nARRIVAL_AIRPORT_COUNTRY_CODE     VARCHAR\nARRIVAL_AIRPORT_IATA             VARCHAR\nARRIVAL_AIRPORT_MUNICIPALITY     VARCHAR\nARRIVAL_AIRPORT_REGION           VARCHAR\nDEPARTURE_AIRPORT_COUNTRY_CODE   VARCHAR\nDEPARTURE_AIRPORT_IATA           VARCHAR\nDEPARTURE_AIRPORT_MUNICIPALITY   VARCHAR\nDEPARTURE_AIRPORT_REGION         VARCHAR\nUUID                             VARCHAR\nAGE                             SMALLINT"
                    }
                }
            ], 
            "source": "idadf.dtypes"
        }, 
        {
            "cell_type": "markdown", 
            "source": "You can very easily explore the data in the IdaDataFrame by using built in functions.\n\nUse IdaDataFrame.head to get the first n records of your data set (default 5):", 
            "metadata": {}
        }, 
        {
            "cell_type": "code", 
            "execution_count": 15, 
            "metadata": {}, 
            "outputs": [
                {
                    "execution_count": 15, 
                    "metadata": {}, 
                    "output_type": "execute_result", 
                    "data": {
                        "text/html": "<div>\n<table border=\"1\" class=\"dataframe\">\n  <thead>\n    <tr style=\"text-align: right;\">\n      <th></th>\n      <th>INTERNAL_ID</th>\n      <th>VETTING_LEVEL</th>\n      <th>DESCRIPTION</th>\n      <th>VETTING_LEVEL_PREDICTION</th>\n      <th>ALGORITHM_NAME</th>\n      <th>NAME</th>\n      <th>GENDER</th>\n      <th>BIRTH_DATE</th>\n      <th>BIRTH_COUNTRY</th>\n      <th>BIRTH_COUNTRY_CODE</th>\n      <th>...</th>\n      <th>ARRIVAL_AIRPORT_COUNTRY_CODE</th>\n      <th>ARRIVAL_AIRPORT_IATA</th>\n      <th>ARRIVAL_AIRPORT_MUNICIPALITY</th>\n      <th>ARRIVAL_AIRPORT_REGION</th>\n      <th>DEPARTURE_AIRPORT_COUNTRY_CODE</th>\n      <th>DEPARTURE_AIRPORT_IATA</th>\n      <th>DEPARTURE_AIRPORT_MUNICIPALITY</th>\n      <th>DEPARTURE_AIRPORT_REGION</th>\n      <th>UUID</th>\n      <th>AGE</th>\n    </tr>\n  </thead>\n  <tbody>\n    <tr>\n      <th>0</th>\n      <td>1</td>\n      <td>100</td>\n      <td>NA</td>\n      <td>30</td>\n      <td>DECISION_TREE</td>\n      <td>Kathleen Bailey</td>\n      <td>F</td>\n      <td>1985-11-27</td>\n      <td>Ghana</td>\n      <td>GH</td>\n      <td>...</td>\n      <td>US</td>\n      <td>BMI</td>\n      <td>Bloomington/Normal</td>\n      <td>US-IL</td>\n      <td>AE</td>\n      <td>AUH</td>\n      <td>Abu Dhabi</td>\n      <td>AE-AZ</td>\n      <td>81d28245-a6d4-40e3-bac0-df61cc6625ce</td>\n      <td>31</td>\n    </tr>\n    <tr>\n      <th>1</th>\n      <td>2</td>\n      <td>30</td>\n      <td>NA</td>\n      <td>30</td>\n      <td>DECISION_TREE</td>\n      <td>Kelly Robbins</td>\n      <td>F</td>\n      <td>1971-01-17</td>\n      <td>Pakistan</td>\n      <td>PK</td>\n      <td>...</td>\n      <td>US</td>\n      <td>CLE</td>\n      <td>Cleveland</td>\n      <td>US-OH</td>\n      <td>UA</td>\n      <td>KBP</td>\n      <td>Kiev</td>\n      <td>UA-32</td>\n      <td>b4d817b3-2154-4351-b0e3-bcd736a76bf5</td>\n      <td>46</td>\n    </tr>\n    <tr>\n      <th>2</th>\n      <td>3</td>\n      <td>100</td>\n      <td>NA</td>\n      <td>30</td>\n      <td>DECISION_TREE</td>\n      <td>Linda Stewart</td>\n      <td>F</td>\n      <td>1997-04-15</td>\n      <td>Ghana</td>\n      <td>GH</td>\n      <td>...</td>\n      <td>US</td>\n      <td>TPA</td>\n      <td>Tampa</td>\n      <td>US-FL</td>\n      <td>RU</td>\n      <td>KJA</td>\n      <td>Krasnoyarsk</td>\n      <td>RU-KYA</td>\n      <td>a52a6477-1f5e-4b09-a5e3-f76333a7eb10</td>\n      <td>19</td>\n    </tr>\n    <tr>\n      <th>3</th>\n      <td>4</td>\n      <td>100</td>\n      <td>NA</td>\n      <td>30</td>\n      <td>DECISION_TREE</td>\n      <td>Stacey Courtney Gonzalez</td>\n      <td>F</td>\n      <td>1984-03-27</td>\n      <td>Ghana</td>\n      <td>GH</td>\n      <td>...</td>\n      <td>US</td>\n      <td>TOL</td>\n      <td>Toledo</td>\n      <td>US-OH</td>\n      <td>RU</td>\n      <td>AER</td>\n      <td>Sochi</td>\n      <td>RU-KDA</td>\n      <td>5fcbbf15-8268-4306-ac26-406c2faae251</td>\n      <td>32</td>\n    </tr>\n    <tr>\n      <th>4</th>\n      <td>5</td>\n      <td>30</td>\n      <td>NA</td>\n      <td>30</td>\n      <td>DECISION_TREE</td>\n      <td>Erika Patie Fowler</td>\n      <td>F</td>\n      <td>1998-06-18</td>\n      <td>Ghana</td>\n      <td>GH</td>\n      <td>...</td>\n      <td>US</td>\n      <td>FWA</td>\n      <td>Fort Wayne</td>\n      <td>US-IN</td>\n      <td>IE</td>\n      <td>ORK</td>\n      <td>Cork</td>\n      <td>IE-C</td>\n      <td>6d1fe59a-6828-4bc5-9ded-2194aa238461</td>\n      <td>18</td>\n    </tr>\n  </tbody>\n</table>\n<p>5 rows \u00d7 28 columns</p>\n</div>", 
                        "text/plain": "   INTERNAL_ID  VETTING_LEVEL DESCRIPTION  VETTING_LEVEL_PREDICTION  \\\n0            1            100          NA                        30   \n1            2             30          NA                        30   \n2            3            100          NA                        30   \n3            4            100          NA                        30   \n4            5             30          NA                        30   \n\n  ALGORITHM_NAME                      NAME GENDER  BIRTH_DATE BIRTH_COUNTRY  \\\n0  DECISION_TREE           Kathleen Bailey      F  1985-11-27         Ghana   \n1  DECISION_TREE             Kelly Robbins      F  1971-01-17      Pakistan   \n2  DECISION_TREE             Linda Stewart      F  1997-04-15         Ghana   \n3  DECISION_TREE  Stacey Courtney Gonzalez      F  1984-03-27         Ghana   \n4  DECISION_TREE        Erika Patie Fowler      F  1998-06-18         Ghana   \n\n  BIRTH_COUNTRY_CODE ... ARRIVAL_AIRPORT_COUNTRY_CODE ARRIVAL_AIRPORT_IATA  \\\n0                 GH ...                           US                  BMI   \n1                 PK ...                           US                  CLE   \n2                 GH ...                           US                  TPA   \n3                 GH ...                           US                  TOL   \n4                 GH ...                           US                  FWA   \n\n  ARRIVAL_AIRPORT_MUNICIPALITY  ARRIVAL_AIRPORT_REGION  \\\n0           Bloomington/Normal                   US-IL   \n1                    Cleveland                   US-OH   \n2                        Tampa                   US-FL   \n3                       Toledo                   US-OH   \n4                   Fort Wayne                   US-IN   \n\n  DEPARTURE_AIRPORT_COUNTRY_CODE DEPARTURE_AIRPORT_IATA  \\\n0                             AE                    AUH   \n1                             UA                    KBP   \n2                             RU                    KJA   \n3                             RU                    AER   \n4                             IE                    ORK   \n\n  DEPARTURE_AIRPORT_MUNICIPALITY  DEPARTURE_AIRPORT_REGION  \\\n0                      Abu Dhabi                     AE-AZ   \n1                           Kiev                     UA-32   \n2                    Krasnoyarsk                    RU-KYA   \n3                          Sochi                    RU-KDA   \n4                           Cork                      IE-C   \n\n                                   UUID AGE  \n0  81d28245-a6d4-40e3-bac0-df61cc6625ce  31  \n1  b4d817b3-2154-4351-b0e3-bcd736a76bf5  46  \n2  a52a6477-1f5e-4b09-a5e3-f76333a7eb10  19  \n3  5fcbbf15-8268-4306-ac26-406c2faae251  32  \n4  6d1fe59a-6828-4bc5-9ded-2194aa238461  18  \n\n[5 rows x 28 columns]"
                    }
                }
            ], 
            "source": "idadf.head()"
        }, 
        {
            "cell_type": "markdown", 
            "source": "Use IdaDataFrame.tail to get the last n records of your data set (default 5) -- try running this multiple times:", 
            "metadata": {}
        }, 
        {
            "cell_type": "code", 
            "execution_count": 16, 
            "metadata": {
                "scrolled": true
            }, 
            "outputs": [
                {
                    "execution_count": 16, 
                    "metadata": {}, 
                    "output_type": "execute_result", 
                    "data": {
                        "text/html": "<div>\n<table border=\"1\" class=\"dataframe\">\n  <thead>\n    <tr style=\"text-align: right;\">\n      <th></th>\n      <th>INTERNAL_ID</th>\n      <th>VETTING_LEVEL</th>\n      <th>DESCRIPTION</th>\n      <th>VETTING_LEVEL_PREDICTION</th>\n      <th>ALGORITHM_NAME</th>\n      <th>NAME</th>\n      <th>GENDER</th>\n      <th>BIRTH_DATE</th>\n      <th>BIRTH_COUNTRY</th>\n      <th>BIRTH_COUNTRY_CODE</th>\n      <th>...</th>\n      <th>ARRIVAL_AIRPORT_COUNTRY_CODE</th>\n      <th>ARRIVAL_AIRPORT_IATA</th>\n      <th>ARRIVAL_AIRPORT_MUNICIPALITY</th>\n      <th>ARRIVAL_AIRPORT_REGION</th>\n      <th>DEPARTURE_AIRPORT_COUNTRY_CODE</th>\n      <th>DEPARTURE_AIRPORT_IATA</th>\n      <th>DEPARTURE_AIRPORT_MUNICIPALITY</th>\n      <th>DEPARTURE_AIRPORT_REGION</th>\n      <th>UUID</th>\n      <th>AGE</th>\n    </tr>\n  </thead>\n  <tbody>\n    <tr>\n      <th>1080</th>\n      <td>1081</td>\n      <td>100</td>\n      <td>NA</td>\n      <td>100</td>\n      <td>DECISION_TREE</td>\n      <td>Angela Martin</td>\n      <td>F</td>\n      <td>1993-06-16</td>\n      <td>Ghana</td>\n      <td>GH</td>\n      <td>...</td>\n      <td>US</td>\n      <td>MIA</td>\n      <td>Miami</td>\n      <td>US-FL</td>\n      <td>LY</td>\n      <td>TIP</td>\n      <td>Tripoli</td>\n      <td>LY-TB</td>\n      <td>5947e672-a702-406e-82b2-546e6db51fa3</td>\n      <td>23</td>\n    </tr>\n    <tr>\n      <th>1081</th>\n      <td>1082</td>\n      <td>100</td>\n      <td>NA</td>\n      <td>100</td>\n      <td>DECISION_TREE</td>\n      <td>Jenny Rocha</td>\n      <td>F</td>\n      <td>1980-06-28</td>\n      <td>Ghana</td>\n      <td>GH</td>\n      <td>...</td>\n      <td>US</td>\n      <td>PHX</td>\n      <td>Phoenix</td>\n      <td>US-AZ</td>\n      <td>QA</td>\n      <td>DOH</td>\n      <td>Doha</td>\n      <td>QA-DA</td>\n      <td>2f73acd1-ba86-427f-8a26-3dfe43135ed7</td>\n      <td>36</td>\n    </tr>\n    <tr>\n      <th>1082</th>\n      <td>1083</td>\n      <td>100</td>\n      <td>NA</td>\n      <td>100</td>\n      <td>DECISION_TREE</td>\n      <td>Amanda Davis</td>\n      <td>F</td>\n      <td>1988-03-19</td>\n      <td>Ghana</td>\n      <td>GH</td>\n      <td>...</td>\n      <td>US</td>\n      <td>END</td>\n      <td>Enid</td>\n      <td>US-OK</td>\n      <td>BS</td>\n      <td>NAS</td>\n      <td>Nassau</td>\n      <td>BS-NP</td>\n      <td>f01a0785-a8e8-4644-86ca-d9e427b74284</td>\n      <td>28</td>\n    </tr>\n    <tr>\n      <th>1083</th>\n      <td>1084</td>\n      <td>100</td>\n      <td>NA</td>\n      <td>100</td>\n      <td>DECISION_TREE</td>\n      <td>Whitney Gordon</td>\n      <td>F</td>\n      <td>1974-03-11</td>\n      <td>Ghana</td>\n      <td>GH</td>\n      <td>...</td>\n      <td>US</td>\n      <td>BOS</td>\n      <td>Boston</td>\n      <td>US-MA</td>\n      <td>RU</td>\n      <td>DME</td>\n      <td>Moscow</td>\n      <td>RU-MOS</td>\n      <td>b0c065de-9f9d-4312-801f-d11bf9e427b5</td>\n      <td>43</td>\n    </tr>\n    <tr>\n      <th>1084</th>\n      <td>1085</td>\n      <td>100</td>\n      <td>NA</td>\n      <td>100</td>\n      <td>DECISION_TREE</td>\n      <td>Kimberly Rivera</td>\n      <td>F</td>\n      <td>1974-06-09</td>\n      <td>Ghana</td>\n      <td>GH</td>\n      <td>...</td>\n      <td>US</td>\n      <td>GSO</td>\n      <td>Greensboro</td>\n      <td>US-NC</td>\n      <td>LB</td>\n      <td>BEY</td>\n      <td>Beirut</td>\n      <td>LB-JL</td>\n      <td>711ef4d1-eb05-43c0-b10a-69afc7a7a1a5</td>\n      <td>42</td>\n    </tr>\n  </tbody>\n</table>\n<p>5 rows \u00d7 28 columns</p>\n</div>", 
                        "text/plain": "      INTERNAL_ID  VETTING_LEVEL DESCRIPTION  VETTING_LEVEL_PREDICTION  \\\n1080         1081            100          NA                       100   \n1081         1082            100          NA                       100   \n1082         1083            100          NA                       100   \n1083         1084            100          NA                       100   \n1084         1085            100          NA                       100   \n\n     ALGORITHM_NAME             NAME GENDER  BIRTH_DATE BIRTH_COUNTRY  \\\n1080  DECISION_TREE    Angela Martin      F  1993-06-16         Ghana   \n1081  DECISION_TREE      Jenny Rocha      F  1980-06-28         Ghana   \n1082  DECISION_TREE     Amanda Davis      F  1988-03-19         Ghana   \n1083  DECISION_TREE   Whitney Gordon      F  1974-03-11         Ghana   \n1084  DECISION_TREE  Kimberly Rivera      F  1974-06-09         Ghana   \n\n     BIRTH_COUNTRY_CODE ... ARRIVAL_AIRPORT_COUNTRY_CODE ARRIVAL_AIRPORT_IATA  \\\n1080                 GH ...                           US                  MIA   \n1081                 GH ...                           US                  PHX   \n1082                 GH ...                           US                  END   \n1083                 GH ...                           US                  BOS   \n1084                 GH ...                           US                  GSO   \n\n     ARRIVAL_AIRPORT_MUNICIPALITY  ARRIVAL_AIRPORT_REGION  \\\n1080                        Miami                   US-FL   \n1081                      Phoenix                   US-AZ   \n1082                         Enid                   US-OK   \n1083                       Boston                   US-MA   \n1084                   Greensboro                   US-NC   \n\n     DEPARTURE_AIRPORT_COUNTRY_CODE DEPARTURE_AIRPORT_IATA  \\\n1080                             LY                    TIP   \n1081                             QA                    DOH   \n1082                             BS                    NAS   \n1083                             RU                    DME   \n1084                             LB                    BEY   \n\n     DEPARTURE_AIRPORT_MUNICIPALITY  DEPARTURE_AIRPORT_REGION  \\\n1080                        Tripoli                     LY-TB   \n1081                           Doha                     QA-DA   \n1082                         Nassau                     BS-NP   \n1083                         Moscow                    RU-MOS   \n1084                         Beirut                     LB-JL   \n\n                                      UUID AGE  \n1080  5947e672-a702-406e-82b2-546e6db51fa3  23  \n1081  2f73acd1-ba86-427f-8a26-3dfe43135ed7  36  \n1082  f01a0785-a8e8-4644-86ca-d9e427b74284  28  \n1083  b0c065de-9f9d-4312-801f-d11bf9e427b5  43  \n1084  711ef4d1-eb05-43c0-b10a-69afc7a7a1a5  42  \n\n[5 rows x 28 columns]"
                    }
                }
            ], 
            "source": "idadf.tail(5)"
        }, 
        {
            "cell_type": "markdown", 
            "source": "__Note__: Because DB2 Warehouse operates on a distributed system, the order of rows using IdaDataFrame.head and IdaDataFrame.tail is not guaranteed unless the table is sorted (using an \u2018ORDER BY\u2019 clause) or a column is declared as index for the IdaDataFrame (parameter/attribute indexer).\n\nIdaDataFrame also implements most attributes that are available in a pandas DataFrame, here is an example of getting the _shape_ of the data frame (rows, columns):", 
            "metadata": {}
        }, 
        {
            "cell_type": "code", 
            "execution_count": 17, 
            "metadata": {}, 
            "outputs": [
                {
                    "execution_count": 17, 
                    "metadata": {}, 
                    "output_type": "execute_result", 
                    "data": {
                        "text/plain": "(1085, 28)"
                    }
                }
            ], 
            "source": "idadf.shape"
        }, 
        {
            "cell_type": "code", 
            "execution_count": 18, 
            "metadata": {}, 
            "outputs": [
                {
                    "execution_count": 18, 
                    "metadata": {}, 
                    "output_type": "execute_result", 
                    "data": {
                        "text/plain": "Index(['INTERNAL_ID', 'VETTING_LEVEL', 'DESCRIPTION',\n       'VETTING_LEVEL_PREDICTION', 'ALGORITHM_NAME', 'NAME', 'GENDER',\n       'BIRTH_DATE', 'BIRTH_COUNTRY', 'BIRTH_COUNTRY_CODE', 'OCCUPATION',\n       'ADDRESS', 'SSN', 'PASSPORT_NUMBER', 'PASSPORT_COUNTRY',\n       'PASSPORT_COUNTRY_CODE', 'COUNTRIES_VISITED', 'COUNTRIES_VISITED_COUNT',\n       'ARRIVAL_AIRPORT_COUNTRY_CODE', 'ARRIVAL_AIRPORT_IATA',\n       'ARRIVAL_AIRPORT_MUNICIPALITY', 'ARRIVAL_AIRPORT_REGION',\n       'DEPARTURE_AIRPORT_COUNTRY_CODE', 'DEPARTURE_AIRPORT_IATA',\n       'DEPARTURE_AIRPORT_MUNICIPALITY', 'DEPARTURE_AIRPORT_REGION', 'UUID',\n       'AGE'],\n      dtype='object')"
                    }
                }
            ], 
            "source": "idadf.columns"
        }, 
        {
            "cell_type": "markdown", 
            "source": "Several standard statistics functions from the pandas interface are also available for IdaDataFrame.  You can use the __TAB__ key after the `.` to see the methods and attributes available in an object in a pulldown menu. \n\nFor example, let us calculate various summary statistics for the data set by using the `describe()` method for the IdaDataFrame instance:", 
            "metadata": {}
        }, 
        {
            "cell_type": "code", 
            "execution_count": 19, 
            "metadata": {}, 
            "outputs": [
                {
                    "execution_count": 19, 
                    "metadata": {}, 
                    "output_type": "execute_result", 
                    "data": {
                        "text/html": "<div>\n<table border=\"1\" class=\"dataframe\">\n  <thead>\n    <tr style=\"text-align: right;\">\n      <th></th>\n      <th>INTERNAL_ID</th>\n      <th>VETTING_LEVEL</th>\n      <th>VETTING_LEVEL_PREDICTION</th>\n      <th>PASSPORT_NUMBER</th>\n      <th>COUNTRIES_VISITED_COUNT</th>\n      <th>AGE</th>\n    </tr>\n  </thead>\n  <tbody>\n    <tr>\n      <th>count</th>\n      <td>1085.000000</td>\n      <td>1085.000000</td>\n      <td>1085.000000</td>\n      <td>1.085000e+03</td>\n      <td>1085.000000</td>\n      <td>1085.000000</td>\n    </tr>\n    <tr>\n      <th>mean</th>\n      <td>543.000000</td>\n      <td>87.373272</td>\n      <td>51.649770</td>\n      <td>4.872943e+08</td>\n      <td>4.391705</td>\n      <td>30.811060</td>\n    </tr>\n    <tr>\n      <th>std</th>\n      <td>313.356825</td>\n      <td>28.711792</td>\n      <td>38.319724</td>\n      <td>2.925367e+08</td>\n      <td>2.837630</td>\n      <td>9.343993</td>\n    </tr>\n    <tr>\n      <th>min</th>\n      <td>1.000000</td>\n      <td>10.000000</td>\n      <td>10.000000</td>\n      <td>1.773050e+05</td>\n      <td>1.000000</td>\n      <td>15.000000</td>\n    </tr>\n    <tr>\n      <th>25%</th>\n      <td>272.000000</td>\n      <td>100.000000</td>\n      <td>20.000000</td>\n      <td>2.325441e+08</td>\n      <td>2.000000</td>\n      <td>23.000000</td>\n    </tr>\n    <tr>\n      <th>50%</th>\n      <td>543.000000</td>\n      <td>100.000000</td>\n      <td>30.000000</td>\n      <td>4.867979e+08</td>\n      <td>4.000000</td>\n      <td>31.000000</td>\n    </tr>\n    <tr>\n      <th>75%</th>\n      <td>814.000000</td>\n      <td>100.000000</td>\n      <td>100.000000</td>\n      <td>7.451034e+08</td>\n      <td>6.000000</td>\n      <td>39.000000</td>\n    </tr>\n    <tr>\n      <th>max</th>\n      <td>1085.000000</td>\n      <td>100.000000</td>\n      <td>100.000000</td>\n      <td>9.980199e+08</td>\n      <td>12.000000</td>\n      <td>47.000000</td>\n    </tr>\n  </tbody>\n</table>\n</div>", 
                        "text/plain": "       INTERNAL_ID  VETTING_LEVEL  VETTING_LEVEL_PREDICTION  PASSPORT_NUMBER  \\\ncount  1085.000000    1085.000000               1085.000000     1.085000e+03   \nmean    543.000000      87.373272                 51.649770     4.872943e+08   \nstd     313.356825      28.711792                 38.319724     2.925367e+08   \nmin       1.000000      10.000000                 10.000000     1.773050e+05   \n25%     272.000000     100.000000                 20.000000     2.325441e+08   \n50%     543.000000     100.000000                 30.000000     4.867979e+08   \n75%     814.000000     100.000000                100.000000     7.451034e+08   \nmax    1085.000000     100.000000                100.000000     9.980199e+08   \n\n       COUNTRIES_VISITED_COUNT          AGE  \ncount              1085.000000  1085.000000  \nmean                  4.391705    30.811060  \nstd                   2.837630     9.343993  \nmin                   1.000000    15.000000  \n25%                   2.000000    23.000000  \n50%                   4.000000    31.000000  \n75%                   6.000000    39.000000  \nmax                  12.000000    47.000000  "
                    }
                }
            ], 
            "source": "idadf.describe()"
        }, 
        {
            "cell_type": "markdown", 
            "source": "__Note__: It is possible to subset the rows of an IdaDataFrame by accessing the IdaDataFrame with a slice object. You can also use the IdaDataFrame.loc attribute, which contains an ibmdbpy.Loc object. However, the row selection might be inaccurate if the current IdaDataFrame is not sorted or does not contain an indexer. This is due to the fact that DB2 Warehouse stores the data across several nodes if available. Moreover, because DB2 Warehouse is by default a column oriented database, row numbers are undefined:", 
            "metadata": {}
        }, 
        {
            "cell_type": "code", 
            "execution_count": 20, 
            "metadata": {
                "scrolled": true
            }, 
            "outputs": [
                {
                    "output_type": "stream", 
                    "text": "/usr/local/src/conda3_runtime.v20/4.1.1/lib/python3.5/site-packages/ibmdbpy/indexing.py:118: UserWarning: Row order is not guaranteed if no indexer was given and the dataset was not sorted\n  \" was given and the dataset was not sorted\")\n", 
                    "name": "stderr"
                }, 
                {
                    "execution_count": 20, 
                    "metadata": {}, 
                    "output_type": "execute_result", 
                    "data": {
                        "text/html": "<div>\n<table border=\"1\" class=\"dataframe\">\n  <thead>\n    <tr style=\"text-align: right;\">\n      <th></th>\n      <th>internal_id</th>\n      <th>vetting_level</th>\n      <th>description</th>\n      <th>vetting_level_prediction</th>\n      <th>algorithm_name</th>\n      <th>name</th>\n      <th>gender</th>\n      <th>birth_date</th>\n      <th>birth_country</th>\n      <th>birth_country_code</th>\n      <th>...</th>\n      <th>arrival_airport_country_code</th>\n      <th>arrival_airport_iata</th>\n      <th>arrival_airport_municipality</th>\n      <th>arrival_airport_region</th>\n      <th>departure_airport_country_code</th>\n      <th>departure_airport_iata</th>\n      <th>departure_airport_municipality</th>\n      <th>departure_airport_region</th>\n      <th>uuid</th>\n      <th>age</th>\n    </tr>\n  </thead>\n  <tbody>\n    <tr>\n      <th>0</th>\n      <td>45</td>\n      <td>10</td>\n      <td>NA</td>\n      <td>10</td>\n      <td>DECISION_TREE</td>\n      <td>Kristie Patel</td>\n      <td>F</td>\n      <td>1995-09-10</td>\n      <td>Brazil</td>\n      <td>BR</td>\n      <td>...</td>\n      <td>US</td>\n      <td>CVS</td>\n      <td>Clovis</td>\n      <td>US-NM</td>\n      <td>DZ</td>\n      <td>ALG</td>\n      <td>Algiers</td>\n      <td>DZ-35</td>\n      <td>1fa1fad9-eca4-456c-9c98-bf693c111969</td>\n      <td>21</td>\n    </tr>\n    <tr>\n      <th>1</th>\n      <td>46</td>\n      <td>100</td>\n      <td>NA</td>\n      <td>10</td>\n      <td>DECISION_TREE</td>\n      <td>Whitney Cole</td>\n      <td>F</td>\n      <td>1982-11-17</td>\n      <td>Ghana</td>\n      <td>GH</td>\n      <td>...</td>\n      <td>US</td>\n      <td>SAV</td>\n      <td>Savannah</td>\n      <td>US-GA</td>\n      <td>AM</td>\n      <td>EVN</td>\n      <td>Yerevan</td>\n      <td>AM-ER</td>\n      <td>e830765c-111b-42d1-99e3-1692beedd4e1</td>\n      <td>34</td>\n    </tr>\n    <tr>\n      <th>2</th>\n      <td>47</td>\n      <td>100</td>\n      <td>NA</td>\n      <td>10</td>\n      <td>DECISION_TREE</td>\n      <td>Barbara Wells</td>\n      <td>F</td>\n      <td>1979-02-08</td>\n      <td>Ghana</td>\n      <td>GH</td>\n      <td>...</td>\n      <td>US</td>\n      <td>STL</td>\n      <td>St Louis</td>\n      <td>US-MO</td>\n      <td>IN</td>\n      <td>SLV</td>\n      <td>NA</td>\n      <td>IN-HP</td>\n      <td>52da6789-6445-43cc-a742-8cf7cb743f56</td>\n      <td>38</td>\n    </tr>\n    <tr>\n      <th>3</th>\n      <td>48</td>\n      <td>20</td>\n      <td>NA</td>\n      <td>10</td>\n      <td>DECISION_TREE</td>\n      <td>Jenny Curtis</td>\n      <td>F</td>\n      <td>1985-06-29</td>\n      <td>Ghana</td>\n      <td>GH</td>\n      <td>...</td>\n      <td>US</td>\n      <td>HMN</td>\n      <td>Alamogordo</td>\n      <td>US-NM</td>\n      <td>UZ</td>\n      <td>TAS</td>\n      <td>Tashkent</td>\n      <td>UZ-TO</td>\n      <td>b21226f1-74c5-4540-8054-21bd4c79f088</td>\n      <td>31</td>\n    </tr>\n    <tr>\n      <th>4</th>\n      <td>49</td>\n      <td>100</td>\n      <td>NA</td>\n      <td>10</td>\n      <td>DECISION_TREE</td>\n      <td>Laura Heather Clark</td>\n      <td>F</td>\n      <td>1982-09-29</td>\n      <td>Ghana</td>\n      <td>GH</td>\n      <td>...</td>\n      <td>US</td>\n      <td>MLI</td>\n      <td>Moline</td>\n      <td>US-IL</td>\n      <td>GB</td>\n      <td>GLA</td>\n      <td>Glasgow</td>\n      <td>GB-SCT</td>\n      <td>07774750-f8e2-4576-9ac4-820a6ab2ab69</td>\n      <td>34</td>\n    </tr>\n    <tr>\n      <th>5</th>\n      <td>50</td>\n      <td>100</td>\n      <td>NA</td>\n      <td>10</td>\n      <td>DECISION_TREE</td>\n      <td>Carla Johnson</td>\n      <td>F</td>\n      <td>1988-04-19</td>\n      <td>Ghana</td>\n      <td>GH</td>\n      <td>...</td>\n      <td>US</td>\n      <td>HOU</td>\n      <td>Houston</td>\n      <td>US-TX</td>\n      <td>LV</td>\n      <td>RIX</td>\n      <td>Riga</td>\n      <td>LV-RIX</td>\n      <td>4f7a4a35-8681-4d5a-af06-1658f837a3b4</td>\n      <td>28</td>\n    </tr>\n    <tr>\n      <th>6</th>\n      <td>51</td>\n      <td>10</td>\n      <td>NA</td>\n      <td>10</td>\n      <td>DECISION_TREE</td>\n      <td>Kellye Neal</td>\n      <td>F</td>\n      <td>1975-12-22</td>\n      <td>Ghana</td>\n      <td>GH</td>\n      <td>...</td>\n      <td>US</td>\n      <td>BGR</td>\n      <td>Bangor</td>\n      <td>US-ME</td>\n      <td>OM</td>\n      <td>MCT</td>\n      <td>Muscat</td>\n      <td>OM-MA</td>\n      <td>c291f828-0641-49a2-8f43-2b36349060b0</td>\n      <td>41</td>\n    </tr>\n    <tr>\n      <th>7</th>\n      <td>52</td>\n      <td>100</td>\n      <td>NA</td>\n      <td>10</td>\n      <td>DECISION_TREE</td>\n      <td>Debr Howell</td>\n      <td>F</td>\n      <td>1982-07-27</td>\n      <td>Ghana</td>\n      <td>GH</td>\n      <td>...</td>\n      <td>US</td>\n      <td>MOB</td>\n      <td>Mobile</td>\n      <td>US-AL</td>\n      <td>EE</td>\n      <td>TLL</td>\n      <td>Tallinn</td>\n      <td>EE-37</td>\n      <td>0e0ac96d-3303-4a02-9368-a8ca8d145052</td>\n      <td>34</td>\n    </tr>\n    <tr>\n      <th>8</th>\n      <td>53</td>\n      <td>100</td>\n      <td>NA</td>\n      <td>10</td>\n      <td>DECISION_TREE</td>\n      <td>Robbi Brann Acosta</td>\n      <td>F</td>\n      <td>1970-08-05</td>\n      <td>Ghana</td>\n      <td>GH</td>\n      <td>...</td>\n      <td>US</td>\n      <td>PHL</td>\n      <td>Philadelphia</td>\n      <td>US-PA</td>\n      <td>LK</td>\n      <td>CMB</td>\n      <td>Colombo</td>\n      <td>LK-1</td>\n      <td>d8353ef2-9307-4e36-98df-fae53608a51e</td>\n      <td>46</td>\n    </tr>\n    <tr>\n      <th>9</th>\n      <td>54</td>\n      <td>100</td>\n      <td>NA</td>\n      <td>10</td>\n      <td>DECISION_TREE</td>\n      <td>Joye Chapman</td>\n      <td>F</td>\n      <td>1981-02-16</td>\n      <td>Ghana</td>\n      <td>GH</td>\n      <td>...</td>\n      <td>US</td>\n      <td>STL</td>\n      <td>St Louis</td>\n      <td>US-MO</td>\n      <td>ET</td>\n      <td>ADD</td>\n      <td>Addis Ababa</td>\n      <td>ET-AA</td>\n      <td>5470cef7-bdea-46a2-a0af-2fb5718b9a3d</td>\n      <td>36</td>\n    </tr>\n  </tbody>\n</table>\n<p>10 rows \u00d7 28 columns</p>\n</div>", 
                        "text/plain": "   internal_id  vetting_level description  vetting_level_prediction  \\\n0           45             10          NA                        10   \n1           46            100          NA                        10   \n2           47            100          NA                        10   \n3           48             20          NA                        10   \n4           49            100          NA                        10   \n5           50            100          NA                        10   \n6           51             10          NA                        10   \n7           52            100          NA                        10   \n8           53            100          NA                        10   \n9           54            100          NA                        10   \n\n  algorithm_name                 name gender  birth_date birth_country  \\\n0  DECISION_TREE        Kristie Patel      F  1995-09-10        Brazil   \n1  DECISION_TREE         Whitney Cole      F  1982-11-17         Ghana   \n2  DECISION_TREE        Barbara Wells      F  1979-02-08         Ghana   \n3  DECISION_TREE         Jenny Curtis      F  1985-06-29         Ghana   \n4  DECISION_TREE  Laura Heather Clark      F  1982-09-29         Ghana   \n5  DECISION_TREE        Carla Johnson      F  1988-04-19         Ghana   \n6  DECISION_TREE          Kellye Neal      F  1975-12-22         Ghana   \n7  DECISION_TREE          Debr Howell      F  1982-07-27         Ghana   \n8  DECISION_TREE   Robbi Brann Acosta      F  1970-08-05         Ghana   \n9  DECISION_TREE         Joye Chapman      F  1981-02-16         Ghana   \n\n  birth_country_code ... arrival_airport_country_code arrival_airport_iata  \\\n0                 BR ...                           US                  CVS   \n1                 GH ...                           US                  SAV   \n2                 GH ...                           US                  STL   \n3                 GH ...                           US                  HMN   \n4                 GH ...                           US                  MLI   \n5                 GH ...                           US                  HOU   \n6                 GH ...                           US                  BGR   \n7                 GH ...                           US                  MOB   \n8                 GH ...                           US                  PHL   \n9                 GH ...                           US                  STL   \n\n  arrival_airport_municipality  arrival_airport_region  \\\n0                       Clovis                   US-NM   \n1                     Savannah                   US-GA   \n2                     St Louis                   US-MO   \n3                   Alamogordo                   US-NM   \n4                       Moline                   US-IL   \n5                      Houston                   US-TX   \n6                       Bangor                   US-ME   \n7                       Mobile                   US-AL   \n8                 Philadelphia                   US-PA   \n9                     St Louis                   US-MO   \n\n  departure_airport_country_code departure_airport_iata  \\\n0                             DZ                    ALG   \n1                             AM                    EVN   \n2                             IN                    SLV   \n3                             UZ                    TAS   \n4                             GB                    GLA   \n5                             LV                    RIX   \n6                             OM                    MCT   \n7                             EE                    TLL   \n8                             LK                    CMB   \n9                             ET                    ADD   \n\n  departure_airport_municipality  departure_airport_region  \\\n0                        Algiers                     DZ-35   \n1                        Yerevan                     AM-ER   \n2                             NA                     IN-HP   \n3                       Tashkent                     UZ-TO   \n4                        Glasgow                    GB-SCT   \n5                           Riga                    LV-RIX   \n6                         Muscat                     OM-MA   \n7                        Tallinn                     EE-37   \n8                        Colombo                      LK-1   \n9                    Addis Ababa                     ET-AA   \n\n                                   uuid age  \n0  1fa1fad9-eca4-456c-9c98-bf693c111969  21  \n1  e830765c-111b-42d1-99e3-1692beedd4e1  34  \n2  52da6789-6445-43cc-a742-8cf7cb743f56  38  \n3  b21226f1-74c5-4540-8054-21bd4c79f088  31  \n4  07774750-f8e2-4576-9ac4-820a6ab2ab69  34  \n5  4f7a4a35-8681-4d5a-af06-1658f837a3b4  28  \n6  c291f828-0641-49a2-8f43-2b36349060b0  41  \n7  0e0ac96d-3303-4a02-9368-a8ca8d145052  34  \n8  d8353ef2-9307-4e36-98df-fae53608a51e  46  \n9  5470cef7-bdea-46a2-a0af-2fb5718b9a3d  36  \n\n[10 rows x 28 columns]"
                    }
                }
            ], 
            "source": "idadf_new = idadf[0:9] # Select the first 10 rows\nidadf_new.head(10)"
        }, 
        {
            "cell_type": "markdown", 
            "source": "<a id=\"Use-SQL\"></a>\n## Use SQL\nWe can also use SQL to get the top 10.", 
            "metadata": {}
        }, 
        {
            "cell_type": "code", 
            "execution_count": 21, 
            "metadata": {}, 
            "outputs": [
                {
                    "execution_count": 21, 
                    "metadata": {}, 
                    "output_type": "execute_result", 
                    "data": {
                        "text/html": "<div>\n<table border=\"1\" class=\"dataframe\">\n  <thead>\n    <tr style=\"text-align: right;\">\n      <th></th>\n      <th>day_key</th>\n      <th>organization_key</th>\n      <th>position_key</th>\n      <th>employee_key</th>\n      <th>expense_type_key</th>\n      <th>account_key</th>\n      <th>expense_unit_quantity</th>\n      <th>expense_total</th>\n    </tr>\n  </thead>\n  <tbody>\n    <tr>\n      <th>0</th>\n      <td>20110930</td>\n      <td>11120</td>\n      <td>43607</td>\n      <td>4652</td>\n      <td>2122</td>\n      <td>8054</td>\n      <td>0.11</td>\n      <td>485.83</td>\n    </tr>\n    <tr>\n      <th>1</th>\n      <td>20110930</td>\n      <td>11120</td>\n      <td>43607</td>\n      <td>4652</td>\n      <td>2124</td>\n      <td>8056</td>\n      <td>0.03</td>\n      <td>132.50</td>\n    </tr>\n    <tr>\n      <th>2</th>\n      <td>20110930</td>\n      <td>11120</td>\n      <td>43607</td>\n      <td>4652</td>\n      <td>2131</td>\n      <td>8049</td>\n      <td>142.50</td>\n      <td>3814.40</td>\n    </tr>\n    <tr>\n      <th>3</th>\n      <td>20111031</td>\n      <td>11120</td>\n      <td>43607</td>\n      <td>4652</td>\n      <td>2120</td>\n      <td>8052</td>\n      <td>0.08</td>\n      <td>353.33</td>\n    </tr>\n    <tr>\n      <th>4</th>\n      <td>20111031</td>\n      <td>11120</td>\n      <td>43607</td>\n      <td>4652</td>\n      <td>2122</td>\n      <td>8054</td>\n      <td>0.11</td>\n      <td>485.83</td>\n    </tr>\n    <tr>\n      <th>5</th>\n      <td>20111031</td>\n      <td>11120</td>\n      <td>43607</td>\n      <td>4652</td>\n      <td>2124</td>\n      <td>8056</td>\n      <td>0.03</td>\n      <td>132.50</td>\n    </tr>\n    <tr>\n      <th>6</th>\n      <td>20111031</td>\n      <td>11120</td>\n      <td>43607</td>\n      <td>4652</td>\n      <td>2131</td>\n      <td>8049</td>\n      <td>157.50</td>\n      <td>4416.67</td>\n    </tr>\n    <tr>\n      <th>7</th>\n      <td>20111130</td>\n      <td>11120</td>\n      <td>43607</td>\n      <td>4652</td>\n      <td>2104</td>\n      <td>8050</td>\n      <td>30.00</td>\n      <td>803.03</td>\n    </tr>\n    <tr>\n      <th>8</th>\n      <td>20111130</td>\n      <td>11120</td>\n      <td>43607</td>\n      <td>4652</td>\n      <td>2120</td>\n      <td>8052</td>\n      <td>0.08</td>\n      <td>353.33</td>\n    </tr>\n    <tr>\n      <th>9</th>\n      <td>20111130</td>\n      <td>11120</td>\n      <td>43607</td>\n      <td>4652</td>\n      <td>2122</td>\n      <td>8054</td>\n      <td>0.11</td>\n      <td>485.83</td>\n    </tr>\n  </tbody>\n</table>\n</div>", 
                        "text/plain": "    day_key  organization_key  position_key  employee_key  expense_type_key  \\\n0  20110930             11120         43607          4652              2122   \n1  20110930             11120         43607          4652              2124   \n2  20110930             11120         43607          4652              2131   \n3  20111031             11120         43607          4652              2120   \n4  20111031             11120         43607          4652              2122   \n5  20111031             11120         43607          4652              2124   \n6  20111031             11120         43607          4652              2131   \n7  20111130             11120         43607          4652              2104   \n8  20111130             11120         43607          4652              2120   \n9  20111130             11120         43607          4652              2122   \n\n   account_key  expense_unit_quantity  expense_total  \n0         8054                   0.11         485.83  \n1         8056                   0.03         132.50  \n2         8049                 142.50        3814.40  \n3         8052                   0.08         353.33  \n4         8054                   0.11         485.83  \n5         8056                   0.03         132.50  \n6         8049                 157.50        4416.67  \n7         8050                  30.00         803.03  \n8         8052                   0.08         353.33  \n9         8054                   0.11         485.83  "
                    }
                }
            ], 
            "source": "top_10_df = idadb.ida_query('SELECT * FROM GOSALESDW.EMP_EXPENSE_FACT LIMIT 10')\ntop_10_df"
        }, 
        {
            "cell_type": "markdown", 
            "source": "Find the top 10 employees (by id) by the number of transactions in the `GOSALESDW.EMP_EXPENSE_FACT` table.", 
            "metadata": {}
        }, 
        {
            "cell_type": "code", 
            "execution_count": 22, 
            "metadata": {}, 
            "outputs": [
                {
                    "execution_count": 22, 
                    "metadata": {}, 
                    "output_type": "execute_result", 
                    "data": {
                        "text/html": "<div>\n<table border=\"1\" class=\"dataframe\">\n  <thead>\n    <tr style=\"text-align: right;\">\n      <th></th>\n      <th>employee_key</th>\n      <th>count</th>\n    </tr>\n  </thead>\n  <tbody>\n    <tr>\n      <th>0</th>\n      <td>4112</td>\n      <td>263.0</td>\n    </tr>\n    <tr>\n      <th>1</th>\n      <td>4134</td>\n      <td>263.0</td>\n    </tr>\n    <tr>\n      <th>2</th>\n      <td>4135</td>\n      <td>261.0</td>\n    </tr>\n    <tr>\n      <th>3</th>\n      <td>4368</td>\n      <td>260.0</td>\n    </tr>\n    <tr>\n      <th>4</th>\n      <td>4016</td>\n      <td>260.0</td>\n    </tr>\n    <tr>\n      <th>5</th>\n      <td>4053</td>\n      <td>260.0</td>\n    </tr>\n    <tr>\n      <th>6</th>\n      <td>4019</td>\n      <td>260.0</td>\n    </tr>\n    <tr>\n      <th>7</th>\n      <td>4480</td>\n      <td>259.0</td>\n    </tr>\n    <tr>\n      <th>8</th>\n      <td>4129</td>\n      <td>259.0</td>\n    </tr>\n    <tr>\n      <th>9</th>\n      <td>4221</td>\n      <td>258.0</td>\n    </tr>\n  </tbody>\n</table>\n</div>", 
                        "text/plain": "   employee_key  count\n0          4112  263.0\n1          4134  263.0\n2          4135  261.0\n3          4368  260.0\n4          4016  260.0\n5          4053  260.0\n6          4019  260.0\n7          4480  259.0\n8          4129  259.0\n9          4221  258.0"
                    }
                }
            ], 
            "source": "idadb.ida_query('SELECT EMPLOYEE_KEY, COUNT(*) AS COUNT FROM GOSALESDW.EMP_EXPENSE_FACT GROUP BY EMPLOYEE_KEY ORDER BY COUNT DESC LIMIT 10')"
        }, 
        {
            "cell_type": "markdown", 
            "source": "<a id=\"Explore-the-trafficking-data\"></a>\n## Explore the trafficking data\n__Time to apply what you've learned!__\n\nComplete the tasks that are commented in the code blocks.  If you get stuck, check out the hints.  If you're still stuck, read the solution.  If you have any questions, feel free to ask.", 
            "metadata": {}
        }, 
        {
            "cell_type": "markdown", 
            "source": "### Create an ibmdbpy dataframe called `trafficking_df` and set it to the name of the trafficking table in your DB2 Warehouse <br>\n\n<div class=\"panel-group\" id=\"accordion-2\">\n  <div class=\"panel panel-default\">\n    <div class=\"panel-heading\">\n      <h4 class=\"panel-title\"><a data-toggle=\"collapse\" data-parent=\"#accordion-2\" href=\"#collapse2-1\">Hint 1</a></h4>\n    </div>\n    <div id=\"collapse2-1\" class=\"panel-collapse collapse\">\n      <div class=\"panel-body\">     \nUse the Connections table to insert the dataframe.   Be sure to name the result trafficking_df!\n      </div>\n    </div>\n  </div>\n  <div class=\"panel panel-default\">\n    <div class=\"panel-heading\">\n      <h4 class=\"panel-title\"><a data-toggle=\"collapse\" data-parent=\"#accordion-2\" href=\"#collapse2-2\">Solution</a></h4>\n    </div>\n    <div id=\"collapse2-2\" class=\"panel-collapse collapse\">\n      <div class=\"panel-body\">     \nSelect the data cell you wish the code to be added to<br>\nSelect the Find and Add Data icon<br>\nSelect Connections<br>\nSelect Insert to Code for the connection you wish to use (there should only be one)<br>\nSelect Insert ibmdbpy IdaDataframe<br>\nSelect the Schema you used to load the data (this schema should start with DASH)<br>\nSelect the Table (there should only be one)<br>\nSelect Insert Code<br>\nRename the result to trafficking_df\n      </div>\n    </div>\n  </div>\n</div>", 
            "metadata": {}
        }, 
        {
            "cell_type": "code", 
            "execution_count": 23, 
            "metadata": {}, 
            "outputs": [
                {
                    "execution_count": 23, 
                    "metadata": {}, 
                    "output_type": "execute_result", 
                    "data": {
                        "text/html": "<div>\n<table border=\"1\" class=\"dataframe\">\n  <thead>\n    <tr style=\"text-align: right;\">\n      <th></th>\n      <th>INTERNAL_ID</th>\n      <th>VETTING_LEVEL</th>\n      <th>DESCRIPTION</th>\n      <th>VETTING_LEVEL_PREDICTION</th>\n      <th>ALGORITHM_NAME</th>\n      <th>NAME</th>\n      <th>GENDER</th>\n      <th>BIRTH_DATE</th>\n      <th>BIRTH_COUNTRY</th>\n      <th>BIRTH_COUNTRY_CODE</th>\n      <th>...</th>\n      <th>ARRIVAL_AIRPORT_COUNTRY_CODE</th>\n      <th>ARRIVAL_AIRPORT_IATA</th>\n      <th>ARRIVAL_AIRPORT_MUNICIPALITY</th>\n      <th>ARRIVAL_AIRPORT_REGION</th>\n      <th>DEPARTURE_AIRPORT_COUNTRY_CODE</th>\n      <th>DEPARTURE_AIRPORT_IATA</th>\n      <th>DEPARTURE_AIRPORT_MUNICIPALITY</th>\n      <th>DEPARTURE_AIRPORT_REGION</th>\n      <th>UUID</th>\n      <th>AGE</th>\n    </tr>\n  </thead>\n  <tbody>\n    <tr>\n      <th>0</th>\n      <td>1</td>\n      <td>100</td>\n      <td>NA</td>\n      <td>30</td>\n      <td>DECISION_TREE</td>\n      <td>Kathleen Bailey</td>\n      <td>F</td>\n      <td>1985-11-27</td>\n      <td>Ghana</td>\n      <td>GH</td>\n      <td>...</td>\n      <td>US</td>\n      <td>BMI</td>\n      <td>Bloomington/Normal</td>\n      <td>US-IL</td>\n      <td>AE</td>\n      <td>AUH</td>\n      <td>Abu Dhabi</td>\n      <td>AE-AZ</td>\n      <td>81d28245-a6d4-40e3-bac0-df61cc6625ce</td>\n      <td>31</td>\n    </tr>\n    <tr>\n      <th>1</th>\n      <td>2</td>\n      <td>30</td>\n      <td>NA</td>\n      <td>30</td>\n      <td>DECISION_TREE</td>\n      <td>Kelly Robbins</td>\n      <td>F</td>\n      <td>1971-01-17</td>\n      <td>Pakistan</td>\n      <td>PK</td>\n      <td>...</td>\n      <td>US</td>\n      <td>CLE</td>\n      <td>Cleveland</td>\n      <td>US-OH</td>\n      <td>UA</td>\n      <td>KBP</td>\n      <td>Kiev</td>\n      <td>UA-32</td>\n      <td>b4d817b3-2154-4351-b0e3-bcd736a76bf5</td>\n      <td>46</td>\n    </tr>\n    <tr>\n      <th>2</th>\n      <td>3</td>\n      <td>100</td>\n      <td>NA</td>\n      <td>30</td>\n      <td>DECISION_TREE</td>\n      <td>Linda Stewart</td>\n      <td>F</td>\n      <td>1997-04-15</td>\n      <td>Ghana</td>\n      <td>GH</td>\n      <td>...</td>\n      <td>US</td>\n      <td>TPA</td>\n      <td>Tampa</td>\n      <td>US-FL</td>\n      <td>RU</td>\n      <td>KJA</td>\n      <td>Krasnoyarsk</td>\n      <td>RU-KYA</td>\n      <td>a52a6477-1f5e-4b09-a5e3-f76333a7eb10</td>\n      <td>19</td>\n    </tr>\n    <tr>\n      <th>3</th>\n      <td>4</td>\n      <td>100</td>\n      <td>NA</td>\n      <td>30</td>\n      <td>DECISION_TREE</td>\n      <td>Stacey Courtney Gonzalez</td>\n      <td>F</td>\n      <td>1984-03-27</td>\n      <td>Ghana</td>\n      <td>GH</td>\n      <td>...</td>\n      <td>US</td>\n      <td>TOL</td>\n      <td>Toledo</td>\n      <td>US-OH</td>\n      <td>RU</td>\n      <td>AER</td>\n      <td>Sochi</td>\n      <td>RU-KDA</td>\n      <td>5fcbbf15-8268-4306-ac26-406c2faae251</td>\n      <td>32</td>\n    </tr>\n    <tr>\n      <th>4</th>\n      <td>5</td>\n      <td>30</td>\n      <td>NA</td>\n      <td>30</td>\n      <td>DECISION_TREE</td>\n      <td>Erika Patie Fowler</td>\n      <td>F</td>\n      <td>1998-06-18</td>\n      <td>Ghana</td>\n      <td>GH</td>\n      <td>...</td>\n      <td>US</td>\n      <td>FWA</td>\n      <td>Fort Wayne</td>\n      <td>US-IN</td>\n      <td>IE</td>\n      <td>ORK</td>\n      <td>Cork</td>\n      <td>IE-C</td>\n      <td>6d1fe59a-6828-4bc5-9ded-2194aa238461</td>\n      <td>18</td>\n    </tr>\n  </tbody>\n</table>\n<p>5 rows \u00d7 28 columns</p>\n</div>", 
                        "text/plain": "   INTERNAL_ID  VETTING_LEVEL DESCRIPTION  VETTING_LEVEL_PREDICTION  \\\n0            1            100          NA                        30   \n1            2             30          NA                        30   \n2            3            100          NA                        30   \n3            4            100          NA                        30   \n4            5             30          NA                        30   \n\n  ALGORITHM_NAME                      NAME GENDER  BIRTH_DATE BIRTH_COUNTRY  \\\n0  DECISION_TREE           Kathleen Bailey      F  1985-11-27         Ghana   \n1  DECISION_TREE             Kelly Robbins      F  1971-01-17      Pakistan   \n2  DECISION_TREE             Linda Stewart      F  1997-04-15         Ghana   \n3  DECISION_TREE  Stacey Courtney Gonzalez      F  1984-03-27         Ghana   \n4  DECISION_TREE        Erika Patie Fowler      F  1998-06-18         Ghana   \n\n  BIRTH_COUNTRY_CODE ... ARRIVAL_AIRPORT_COUNTRY_CODE ARRIVAL_AIRPORT_IATA  \\\n0                 GH ...                           US                  BMI   \n1                 PK ...                           US                  CLE   \n2                 GH ...                           US                  TPA   \n3                 GH ...                           US                  TOL   \n4                 GH ...                           US                  FWA   \n\n  ARRIVAL_AIRPORT_MUNICIPALITY  ARRIVAL_AIRPORT_REGION  \\\n0           Bloomington/Normal                   US-IL   \n1                    Cleveland                   US-OH   \n2                        Tampa                   US-FL   \n3                       Toledo                   US-OH   \n4                   Fort Wayne                   US-IN   \n\n  DEPARTURE_AIRPORT_COUNTRY_CODE DEPARTURE_AIRPORT_IATA  \\\n0                             AE                    AUH   \n1                             UA                    KBP   \n2                             RU                    KJA   \n3                             RU                    AER   \n4                             IE                    ORK   \n\n  DEPARTURE_AIRPORT_MUNICIPALITY  DEPARTURE_AIRPORT_REGION  \\\n0                      Abu Dhabi                     AE-AZ   \n1                           Kiev                     UA-32   \n2                    Krasnoyarsk                    RU-KYA   \n3                          Sochi                    RU-KDA   \n4                           Cork                      IE-C   \n\n                                   UUID AGE  \n0  81d28245-a6d4-40e3-bac0-df61cc6625ce  31  \n1  b4d817b3-2154-4351-b0e3-bcd736a76bf5  46  \n2  a52a6477-1f5e-4b09-a5e3-f76333a7eb10  19  \n3  5fcbbf15-8268-4306-ac26-406c2faae251  32  \n4  6d1fe59a-6828-4bc5-9ded-2194aa238461  18  \n\n[5 rows x 28 columns]"
                    }
                }
            ], 
            "source": "# The code was removed by DSX for sharing."
        }, 
        {
            "cell_type": "code", 
            "execution_count": 24, 
            "metadata": {}, 
            "outputs": [
                {
                    "traceback": [
                        "\u001b[1;31m\u001b[0m", 
                        "\u001b[1;31mAttributeError\u001b[0mTraceback (most recent call last)", 
                        "\u001b[1;32m<ipython-input-24-8fb87066c585>\u001b[0m in \u001b[0;36m<module>\u001b[1;34m()\u001b[0m\n\u001b[1;32m----> 1\u001b[1;33m \u001b[0mtrafficking_df\u001b[0m\u001b[1;33m.\u001b[0m\u001b[0mexists_table_or_view\u001b[0m\u001b[1;33m(\u001b[0m\u001b[0mtrafficking_df\u001b[0m\u001b[1;33m.\u001b[0m\u001b[0mname\u001b[0m\u001b[1;33m)\u001b[0m\u001b[1;33m\u001b[0m\u001b[0m\n\u001b[0m\u001b[0;32m      2\u001b[0m \u001b[1;33m\u001b[0m\u001b[0m\n\u001b[0;32m      3\u001b[0m \u001b[1;31m# The output of this block should be:\u001b[0m\u001b[1;33m\u001b[0m\u001b[1;33m\u001b[0m\u001b[0m\n\u001b[0;32m      4\u001b[0m \u001b[1;31m# True\u001b[0m\u001b[1;33m\u001b[0m\u001b[1;33m\u001b[0m\u001b[0m\n", 
                        "\u001b[1;31mAttributeError\u001b[0m: 'IdaDataFrame' object has no attribute 'exists_table_or_view'"
                    ], 
                    "evalue": "'IdaDataFrame' object has no attribute 'exists_table_or_view'", 
                    "ename": "AttributeError", 
                    "output_type": "error"
                }
            ], 
            "source": "trafficking_df.exists_table_or_view(trafficking_df.name)\n\n# The output of this block should be:\n# True"
        }, 
        {
            "cell_type": "code", 
            "execution_count": 25, 
            "metadata": {}, 
            "outputs": [
                {
                    "output_type": "stream", 
                    "text": "(1085, 28)\n", 
                    "name": "stdout"
                }, 
                {
                    "execution_count": 25, 
                    "metadata": {}, 
                    "output_type": "execute_result", 
                    "data": {
                        "text/html": "<div>\n<table border=\"1\" class=\"dataframe\">\n  <thead>\n    <tr style=\"text-align: right;\">\n      <th></th>\n      <th>TYPENAME</th>\n    </tr>\n  </thead>\n  <tbody>\n    <tr>\n      <th>INTERNAL_ID</th>\n      <td>SMALLINT</td>\n    </tr>\n    <tr>\n      <th>VETTING_LEVEL</th>\n      <td>SMALLINT</td>\n    </tr>\n    <tr>\n      <th>DESCRIPTION</th>\n      <td>VARCHAR</td>\n    </tr>\n    <tr>\n      <th>VETTING_LEVEL_PREDICTION</th>\n      <td>SMALLINT</td>\n    </tr>\n    <tr>\n      <th>ALGORITHM_NAME</th>\n      <td>VARCHAR</td>\n    </tr>\n    <tr>\n      <th>NAME</th>\n      <td>VARCHAR</td>\n    </tr>\n    <tr>\n      <th>GENDER</th>\n      <td>VARCHAR</td>\n    </tr>\n    <tr>\n      <th>BIRTH_DATE</th>\n      <td>DATE</td>\n    </tr>\n    <tr>\n      <th>BIRTH_COUNTRY</th>\n      <td>VARCHAR</td>\n    </tr>\n    <tr>\n      <th>BIRTH_COUNTRY_CODE</th>\n      <td>VARCHAR</td>\n    </tr>\n    <tr>\n      <th>OCCUPATION</th>\n      <td>VARCHAR</td>\n    </tr>\n    <tr>\n      <th>ADDRESS</th>\n      <td>VARCHAR</td>\n    </tr>\n    <tr>\n      <th>SSN</th>\n      <td>VARCHAR</td>\n    </tr>\n    <tr>\n      <th>PASSPORT_NUMBER</th>\n      <td>INTEGER</td>\n    </tr>\n    <tr>\n      <th>PASSPORT_COUNTRY</th>\n      <td>VARCHAR</td>\n    </tr>\n    <tr>\n      <th>PASSPORT_COUNTRY_CODE</th>\n      <td>VARCHAR</td>\n    </tr>\n    <tr>\n      <th>COUNTRIES_VISITED</th>\n      <td>VARCHAR</td>\n    </tr>\n    <tr>\n      <th>COUNTRIES_VISITED_COUNT</th>\n      <td>SMALLINT</td>\n    </tr>\n    <tr>\n      <th>ARRIVAL_AIRPORT_COUNTRY_CODE</th>\n      <td>VARCHAR</td>\n    </tr>\n    <tr>\n      <th>ARRIVAL_AIRPORT_IATA</th>\n      <td>VARCHAR</td>\n    </tr>\n    <tr>\n      <th>ARRIVAL_AIRPORT_MUNICIPALITY</th>\n      <td>VARCHAR</td>\n    </tr>\n    <tr>\n      <th>ARRIVAL_AIRPORT_REGION</th>\n      <td>VARCHAR</td>\n    </tr>\n    <tr>\n      <th>DEPARTURE_AIRPORT_COUNTRY_CODE</th>\n      <td>VARCHAR</td>\n    </tr>\n    <tr>\n      <th>DEPARTURE_AIRPORT_IATA</th>\n      <td>VARCHAR</td>\n    </tr>\n    <tr>\n      <th>DEPARTURE_AIRPORT_MUNICIPALITY</th>\n      <td>VARCHAR</td>\n    </tr>\n    <tr>\n      <th>DEPARTURE_AIRPORT_REGION</th>\n      <td>VARCHAR</td>\n    </tr>\n    <tr>\n      <th>UUID</th>\n      <td>VARCHAR</td>\n    </tr>\n    <tr>\n      <th>AGE</th>\n      <td>SMALLINT</td>\n    </tr>\n  </tbody>\n</table>\n</div>", 
                        "text/plain": "                                TYPENAME\nINTERNAL_ID                     SMALLINT\nVETTING_LEVEL                   SMALLINT\nDESCRIPTION                      VARCHAR\nVETTING_LEVEL_PREDICTION        SMALLINT\nALGORITHM_NAME                   VARCHAR\nNAME                             VARCHAR\nGENDER                           VARCHAR\nBIRTH_DATE                          DATE\nBIRTH_COUNTRY                    VARCHAR\nBIRTH_COUNTRY_CODE               VARCHAR\nOCCUPATION                       VARCHAR\nADDRESS                          VARCHAR\nSSN                              VARCHAR\nPASSPORT_NUMBER                  INTEGER\nPASSPORT_COUNTRY                 VARCHAR\nPASSPORT_COUNTRY_CODE            VARCHAR\nCOUNTRIES_VISITED                VARCHAR\nCOUNTRIES_VISITED_COUNT         SMALLINT\nARRIVAL_AIRPORT_COUNTRY_CODE     VARCHAR\nARRIVAL_AIRPORT_IATA             VARCHAR\nARRIVAL_AIRPORT_MUNICIPALITY     VARCHAR\nARRIVAL_AIRPORT_REGION           VARCHAR\nDEPARTURE_AIRPORT_COUNTRY_CODE   VARCHAR\nDEPARTURE_AIRPORT_IATA           VARCHAR\nDEPARTURE_AIRPORT_MUNICIPALITY   VARCHAR\nDEPARTURE_AIRPORT_REGION         VARCHAR\nUUID                             VARCHAR\nAGE                             SMALLINT"
                    }
                }
            ], 
            "source": "print(trafficking_df.shape)\ntrafficking_df.dtypes"
        }, 
        {
            "cell_type": "markdown", 
            "source": "### Show the top 5 records from the table using a method of the IdaDataFrame <br>\n<div class=\"panel-group\" id=\"accordion-12\">\n  <div class=\"panel panel-default\">\n    <div class=\"panel-heading\">\n      <h4 class=\"panel-title\"><a data-toggle=\"collapse\" data-parent=\"#accordion-12\" href=\"#collapse1-12\">Hint 1</a></h4>\n    </div>\n    <div id=\"collapse1-12\" class=\"panel-collapse collapse\">\n      <div class=\"panel-body\">\n      \nHeads or tails?\n      \n      </div>\n    </div>\n  </div>\n  <div class=\"panel panel-default\">\n    <div class=\"panel-heading\">\n      <h4 class=\"panel-title\"><a data-toggle=\"collapse\" data-parent=\"#accordion-12\" href=\"#collapse2-12\">Solution</a></h4>\n    </div>\n    <div id=\"collapse2-12\" class=\"panel-collapse collapse\">\n      <div class=\"panel-body\">\n      Heads!<br>\n<pre>\ntrafficking_df.head()\n</pre> \n      </div>\n    </div>\n  </div>\n</div>\n", 
            "metadata": {}
        }, 
        {
            "cell_type": "code", 
            "execution_count": 26, 
            "metadata": {}, 
            "outputs": [
                {
                    "execution_count": 26, 
                    "metadata": {}, 
                    "output_type": "execute_result", 
                    "data": {
                        "text/html": "<div>\n<table border=\"1\" class=\"dataframe\">\n  <thead>\n    <tr style=\"text-align: right;\">\n      <th></th>\n      <th>INTERNAL_ID</th>\n      <th>VETTING_LEVEL</th>\n      <th>DESCRIPTION</th>\n      <th>VETTING_LEVEL_PREDICTION</th>\n      <th>ALGORITHM_NAME</th>\n      <th>NAME</th>\n      <th>GENDER</th>\n      <th>BIRTH_DATE</th>\n      <th>BIRTH_COUNTRY</th>\n      <th>BIRTH_COUNTRY_CODE</th>\n      <th>...</th>\n      <th>ARRIVAL_AIRPORT_COUNTRY_CODE</th>\n      <th>ARRIVAL_AIRPORT_IATA</th>\n      <th>ARRIVAL_AIRPORT_MUNICIPALITY</th>\n      <th>ARRIVAL_AIRPORT_REGION</th>\n      <th>DEPARTURE_AIRPORT_COUNTRY_CODE</th>\n      <th>DEPARTURE_AIRPORT_IATA</th>\n      <th>DEPARTURE_AIRPORT_MUNICIPALITY</th>\n      <th>DEPARTURE_AIRPORT_REGION</th>\n      <th>UUID</th>\n      <th>AGE</th>\n    </tr>\n  </thead>\n  <tbody>\n    <tr>\n      <th>0</th>\n      <td>1</td>\n      <td>100</td>\n      <td>NA</td>\n      <td>30</td>\n      <td>DECISION_TREE</td>\n      <td>Kathleen Bailey</td>\n      <td>F</td>\n      <td>1985-11-27</td>\n      <td>Ghana</td>\n      <td>GH</td>\n      <td>...</td>\n      <td>US</td>\n      <td>BMI</td>\n      <td>Bloomington/Normal</td>\n      <td>US-IL</td>\n      <td>AE</td>\n      <td>AUH</td>\n      <td>Abu Dhabi</td>\n      <td>AE-AZ</td>\n      <td>81d28245-a6d4-40e3-bac0-df61cc6625ce</td>\n      <td>31</td>\n    </tr>\n    <tr>\n      <th>1</th>\n      <td>2</td>\n      <td>30</td>\n      <td>NA</td>\n      <td>30</td>\n      <td>DECISION_TREE</td>\n      <td>Kelly Robbins</td>\n      <td>F</td>\n      <td>1971-01-17</td>\n      <td>Pakistan</td>\n      <td>PK</td>\n      <td>...</td>\n      <td>US</td>\n      <td>CLE</td>\n      <td>Cleveland</td>\n      <td>US-OH</td>\n      <td>UA</td>\n      <td>KBP</td>\n      <td>Kiev</td>\n      <td>UA-32</td>\n      <td>b4d817b3-2154-4351-b0e3-bcd736a76bf5</td>\n      <td>46</td>\n    </tr>\n    <tr>\n      <th>2</th>\n      <td>3</td>\n      <td>100</td>\n      <td>NA</td>\n      <td>30</td>\n      <td>DECISION_TREE</td>\n      <td>Linda Stewart</td>\n      <td>F</td>\n      <td>1997-04-15</td>\n      <td>Ghana</td>\n      <td>GH</td>\n      <td>...</td>\n      <td>US</td>\n      <td>TPA</td>\n      <td>Tampa</td>\n      <td>US-FL</td>\n      <td>RU</td>\n      <td>KJA</td>\n      <td>Krasnoyarsk</td>\n      <td>RU-KYA</td>\n      <td>a52a6477-1f5e-4b09-a5e3-f76333a7eb10</td>\n      <td>19</td>\n    </tr>\n    <tr>\n      <th>3</th>\n      <td>4</td>\n      <td>100</td>\n      <td>NA</td>\n      <td>30</td>\n      <td>DECISION_TREE</td>\n      <td>Stacey Courtney Gonzalez</td>\n      <td>F</td>\n      <td>1984-03-27</td>\n      <td>Ghana</td>\n      <td>GH</td>\n      <td>...</td>\n      <td>US</td>\n      <td>TOL</td>\n      <td>Toledo</td>\n      <td>US-OH</td>\n      <td>RU</td>\n      <td>AER</td>\n      <td>Sochi</td>\n      <td>RU-KDA</td>\n      <td>5fcbbf15-8268-4306-ac26-406c2faae251</td>\n      <td>32</td>\n    </tr>\n    <tr>\n      <th>4</th>\n      <td>5</td>\n      <td>30</td>\n      <td>NA</td>\n      <td>30</td>\n      <td>DECISION_TREE</td>\n      <td>Erika Patie Fowler</td>\n      <td>F</td>\n      <td>1998-06-18</td>\n      <td>Ghana</td>\n      <td>GH</td>\n      <td>...</td>\n      <td>US</td>\n      <td>FWA</td>\n      <td>Fort Wayne</td>\n      <td>US-IN</td>\n      <td>IE</td>\n      <td>ORK</td>\n      <td>Cork</td>\n      <td>IE-C</td>\n      <td>6d1fe59a-6828-4bc5-9ded-2194aa238461</td>\n      <td>18</td>\n    </tr>\n  </tbody>\n</table>\n<p>5 rows \u00d7 28 columns</p>\n</div>", 
                        "text/plain": "   INTERNAL_ID  VETTING_LEVEL DESCRIPTION  VETTING_LEVEL_PREDICTION  \\\n0            1            100          NA                        30   \n1            2             30          NA                        30   \n2            3            100          NA                        30   \n3            4            100          NA                        30   \n4            5             30          NA                        30   \n\n  ALGORITHM_NAME                      NAME GENDER  BIRTH_DATE BIRTH_COUNTRY  \\\n0  DECISION_TREE           Kathleen Bailey      F  1985-11-27         Ghana   \n1  DECISION_TREE             Kelly Robbins      F  1971-01-17      Pakistan   \n2  DECISION_TREE             Linda Stewart      F  1997-04-15         Ghana   \n3  DECISION_TREE  Stacey Courtney Gonzalez      F  1984-03-27         Ghana   \n4  DECISION_TREE        Erika Patie Fowler      F  1998-06-18         Ghana   \n\n  BIRTH_COUNTRY_CODE ... ARRIVAL_AIRPORT_COUNTRY_CODE ARRIVAL_AIRPORT_IATA  \\\n0                 GH ...                           US                  BMI   \n1                 PK ...                           US                  CLE   \n2                 GH ...                           US                  TPA   \n3                 GH ...                           US                  TOL   \n4                 GH ...                           US                  FWA   \n\n  ARRIVAL_AIRPORT_MUNICIPALITY  ARRIVAL_AIRPORT_REGION  \\\n0           Bloomington/Normal                   US-IL   \n1                    Cleveland                   US-OH   \n2                        Tampa                   US-FL   \n3                       Toledo                   US-OH   \n4                   Fort Wayne                   US-IN   \n\n  DEPARTURE_AIRPORT_COUNTRY_CODE DEPARTURE_AIRPORT_IATA  \\\n0                             AE                    AUH   \n1                             UA                    KBP   \n2                             RU                    KJA   \n3                             RU                    AER   \n4                             IE                    ORK   \n\n  DEPARTURE_AIRPORT_MUNICIPALITY  DEPARTURE_AIRPORT_REGION  \\\n0                      Abu Dhabi                     AE-AZ   \n1                           Kiev                     UA-32   \n2                    Krasnoyarsk                    RU-KYA   \n3                          Sochi                    RU-KDA   \n4                           Cork                      IE-C   \n\n                                   UUID AGE  \n0  81d28245-a6d4-40e3-bac0-df61cc6625ce  31  \n1  b4d817b3-2154-4351-b0e3-bcd736a76bf5  46  \n2  a52a6477-1f5e-4b09-a5e3-f76333a7eb10  19  \n3  5fcbbf15-8268-4306-ac26-406c2faae251  32  \n4  6d1fe59a-6828-4bc5-9ded-2194aa238461  18  \n\n[5 rows x 28 columns]"
                    }
                }
            ], 
            "source": "# enter answer here\ntrafficking_df.head()"
        }, 
        {
            "cell_type": "markdown", 
            "source": "### Query the trafficking table so that we get the vetting_level and the number of times that vetting_level appears in the trafficking table, ordered by the vetting_level<br>\n<div class=\"panel-group\" id=\"accordion-13\">\n  <div class=\"panel panel-default\">\n    <div class=\"panel-heading\">\n      <h4 class=\"panel-title\"><a data-toggle=\"collapse\" data-parent=\"#accordion-13\" href=\"#collapse1-13\">Hint 1</a></h4>\n    </div>\n    <div id=\"collapse1-13\" class=\"panel-collapse collapse\">\n      <div class=\"panel-body\">\n      \nIt is similar to:\n\n<pre>\n<resource>.ida_query('SELECT EMPLOYEE_KEY, COUNT(&#42;) AS COUNT FROM GOSALESDW.EMP_EXPENSE_FACT GROUP BY EMPLOYEE_KEY ORDER BY COUNT DESC LIMIT 10')\n</pre>\n      \n      </div>\n    </div>\n  </div>\n  <div class=\"panel panel-default\">\n    <div class=\"panel-heading\">\n      <h4 class=\"panel-title\"><a data-toggle=\"collapse\" data-parent=\"#accordion-13\" href=\"#collapse2-13\">Hint 2</a></h4>\n    </div>\n    <div id=\"collapse2-13\" class=\"panel-collapse collapse\">\n      <div class=\"panel-body\">\n      \nThe SQL query is:\n\n<pre>\n'SELECT VETTING_LEVEL, COUNT(&#42;) AS COUNT FROM ' + trafficking_table + ' GROUP BY VETTING_LEVEL ORDER BY VETTING_LEVEL'\n</pre>\n      \n      </div>\n    </div>\n  </div>\n  <div class=\"panel panel-default\">\n    <div class=\"panel-heading\">\n      <h4 class=\"panel-title\"><a data-toggle=\"collapse\" data-parent=\"#accordion-13\" href=\"#collapse3-13\">Solution 1</a></h4>\n    </div>\n    <div id=\"collapse3-13\" class=\"panel-collapse collapse\">\n      <div class=\"panel-body\">\n      \n<pre>\nidadb.ida_query('SELECT VETTING_LEVEL, COUNT(&#42;) AS COUNT FROM ' + trafficking_df.name + ' GROUP BY VETTING_LEVEL ORDER BY VETTING_LEVEL')\n</pre>\n\n      </div>\n    </div>\n  </div>\n    <div class=\"panel panel-default\">\n    <div class=\"panel-heading\">\n      <h4 class=\"panel-title\"><a data-toggle=\"collapse\" data-parent=\"#accordion-13\" href=\"#collapse3-14\">Solution 2</a></h4>\n    </div>\n    <div id=\"collapse3-14\" class=\"panel-collapse collapse\">\n      <div class=\"panel-body\">\n      \n<pre>\ntrafficking_df.ida_query('SELECT VETTING_LEVEL, COUNT(&#42;) AS COUNT FROM ' + trafficking_df.name + ' GROUP BY VETTING_LEVEL ORDER BY VETTING_LEVEL')\n</pre>\n\n      </div>\n    </div>\n  </div>\n</div>\n", 
            "metadata": {}
        }, 
        {
            "cell_type": "code", 
            "execution_count": 28, 
            "metadata": {}, 
            "outputs": [
                {
                    "execution_count": 28, 
                    "metadata": {}, 
                    "output_type": "execute_result", 
                    "data": {
                        "text/html": "<div>\n<table border=\"1\" class=\"dataframe\">\n  <thead>\n    <tr style=\"text-align: right;\">\n      <th></th>\n      <th>vetting_level</th>\n      <th>count</th>\n    </tr>\n  </thead>\n  <tbody>\n    <tr>\n      <th>0</th>\n      <td>10</td>\n      <td>42.0</td>\n    </tr>\n    <tr>\n      <th>1</th>\n      <td>20</td>\n      <td>40.0</td>\n    </tr>\n    <tr>\n      <th>2</th>\n      <td>30</td>\n      <td>96.0</td>\n    </tr>\n    <tr>\n      <th>3</th>\n      <td>100</td>\n      <td>907.0</td>\n    </tr>\n  </tbody>\n</table>\n</div>", 
                        "text/plain": "   vetting_level  count\n0             10   42.0\n1             20   40.0\n2             30   96.0\n3            100  907.0"
                    }
                }
            ], 
            "source": "# Enter query here\ntrafficking_df.ida_query('SELECT VETTING_LEVEL, COUNT(*) AS COUNT FROM ' + trafficking_df.name + ' GROUP BY VETTING_LEVEL ORDER BY VETTING_LEVEL')"
        }, 
        {
            "cell_type": "markdown", 
            "source": "<a id=\"Close-the-database-connection\"></a>\n## Close the database connection\n\nTo ensure expected behaviors, IdaDataBase instances need to be closed.\n\n__Note__: Closing the *IdaDataBase* is equivalent to closing the connection: once the connection is closed, it is no longer possible to use the *IdaDataBase* instance and any *IdaDataFrame* instances that were opened on this connection.", 
            "metadata": {}
        }, 
        {
            "cell_type": "code", 
            "execution_count": 29, 
            "metadata": {}, 
            "outputs": [
                {
                    "output_type": "stream", 
                    "text": "Connection closed.\n", 
                    "name": "stdout"
                }
            ], 
            "source": "idadb.close()"
        }, 
        {
            "cell_type": "markdown", 
            "source": "<a id=\"Share\"></a>\n## Share the notebook\nYou can share a notebook by selecting the Share icon.<br>\n<img alt=\"IBM Bluemix.Get started now\" src=\"https://raw.githubusercontent.com/jpatter/DSX/master/Lab-1/images/share-button.png\" ><br>\nThis displays a Share Notebook popup which gives the user a link which can can be sent to other users.   Anyone with the link will see the most recent version of the notebook.   The user can determine what level of notebook information will be shared.\n<img alt=\"IBM Bluemix.Get started now\" src=\"https://raw.githubusercontent.com/jpatter/DSX/master/Lab-1/images/Share-Window.PNG\" ><br>", 
            "metadata": {}
        }, 
        {
            "cell_type": "markdown", 
            "source": "<a id=\"GitHub\"></a>\n## Publish the notebook to gist/GitHub\n\nSelect the Github/Gist integration icon from the command bar (it looks like an open box with an arrow pointing up).<br>\n<img alt=\"IBM Bluemix.Get started now\" src=\"https://raw.githubusercontent.com/jpatter/DSX/master/Lab-1/images/github-button.png\" ><br>\n\nIf you wish to publish to a gist, nothing more is needed.   However, if you want to publish to github, you will need a security token.\n\nSelect Publish on GitHub<br>\n<img alt=\"IBM Bluemix.Get started now\" src=\"https://raw.githubusercontent.com/jpatter/DSX/master/Lab-1/images/NoGitHub.PNG\" ><br>\nYou will get a popup stating that you need to set a token in your account settings.   This can be reached by selecting the account settings link in the popup or by selecting your personal icon (upper right hand corner) and selecting settings.\n\n<img alt=\"IBM Bluemix.Get started now\" src=\"https://raw.githubusercontent.com/jpatter/DSX/master/Lab-1/images/Profile.PNG\" ><br>\nIn the Profile settings page select Integrations and paste your github token there.   \n\n<img alt=\"IBM Bluemix.Get started now\" src=\"https://raw.githubusercontent.com/jpatter/DSX/master/Lab-1/images/Integrations.PNG\" ><br>\nI have provided one for you should you wish to try this which uses the account at http://github.com/dsxspare3/DSX-Demo\n\nI broke it into two pieces because otherwise github will delete it when publishing to github because it is a valid token.   Paste them together when putting in the github token in DSX.\n\nPart 1: 8e8ff3b15d92438fc4  Part 2: a2a0aad611310d2562d8b5\n\nFinally, you need to add the URL for the GitHub in the Settings section of your project.\n\n<img alt=\"IBM Bluemix.Get started now\" src=\"https://raw.githubusercontent.com/jpatter/DSX/master/Lab-1/images/ProjectSettings.PNG\" ><br>\n\n<img alt=\"IBM Bluemix.Get started now\" src=\"https://raw.githubusercontent.com/jpatter/DSX/master/Lab-1/images/GitHubURL.PNG\" ><br>\n\nYou should now be able to publish to GitHub for this project.   When publishing, you are asked for the path to save.   Since all users will be using the same GitHub I suggest publishing to a folder with your username.", 
            "metadata": {}
        }, 
        {
            "cell_type": "markdown", 
            "source": "<a id=\"Help\"></a>\n## Get Help\n\nSelect the icon in the lower right corner \n<img alt=\"IBM Bluemix.Get started now\" src=\"https://raw.githubusercontent.com/jpatter/DSX/master/Lab-1/images/Help-Icon.PNG\"/>\nto display a help window connecting to IBM DSX Support.\n<img alt=\"IBM Bluemix.Get started now\" src=\"https://raw.githubusercontent.com/jpatter/DSX/master/Lab-1/images/Help-Window.PNG\"/>", 
            "metadata": {}
        }, 
        {
            "cell_type": "markdown", 
            "source": "<a id=\"Summary\"></a>\n## Summary\n\nThis notebook demonstrated how to establish a JDBC connection to a DB2 Warehouse (or DB2) database from Python, work with data frames and explore the data using SQL and data frame object attributes and methods.", 
            "metadata": {}
        }, 
        {
            "cell_type": "markdown", 
            "source": "## Take it farther\n### Free courses on <a href=\"https://cognitiveclass.ai/courses/?utm_source=tutorial-dashdb-python&utm_medium=github&utm_campaign=bdu/\" rel=\"noopener noreferrer\" target=\"_blank\">Cognitive Class.ai</a>: <a href=\"https://bigdatauniversity.com/courses/?utm_source=tutorial-dashdb-python&utm_medium=github&utm_campaign=bdu\" rel=\"noopener noreferrer\" target=\"_blank\"><img src = \"https://ibm.box.com/shared/static/xomeu7dacwufkoawbg3owc8wzuezltn6.png\" width=600px> </a>", 
            "metadata": {}
        }, 
        {
            "cell_type": "code", 
            "execution_count": null, 
            "metadata": {
                "collapsed": true
            }, 
            "outputs": [], 
            "source": ""
        }
    ], 
    "nbformat": 4, 
    "metadata": {
        "kernelspec": {
            "language": "python", 
            "name": "python3-spark21", 
            "display_name": "Python 3.5 (Experimental) with Spark 2.1"
        }, 
        "language_info": {
            "version": "3.5.2", 
            "nbconvert_exporter": "python", 
            "mimetype": "text/x-python", 
            "name": "python", 
            "file_extension": ".py", 
            "pygments_lexer": "ipython3", 
            "codemirror_mode": {
                "version": 3, 
                "name": "ipython"
            }
        }
    }, 
    "nbformat_minor": 1
}